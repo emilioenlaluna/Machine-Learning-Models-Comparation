{
  "nbformat": 4,
  "nbformat_minor": 0,
  "metadata": {
    "colab": {
      "provenance": [],
      "authorship_tag": "ABX9TyMcN59x0RerH23wDBIaYEEJ",
      "include_colab_link": true
    },
    "kernelspec": {
      "name": "python3",
      "display_name": "Python 3"
    },
    "language_info": {
      "name": "python"
    }
  },
  "cells": [
    {
      "cell_type": "markdown",
      "metadata": {
        "id": "view-in-github",
        "colab_type": "text"
      },
      "source": [
        "<a href=\"https://colab.research.google.com/github/emilioenlaluna/Machine-Learning-Models-Comparation/blob/main/Examen_Aprendizaje_Inteligente_Parcial_II.ipynb\" target=\"_parent\"><img src=\"https://colab.research.google.com/assets/colab-badge.svg\" alt=\"Open In Colab\"/></a>"
      ]
    },
    {
      "cell_type": "markdown",
      "source": [
        "\n",
        "<img  src=\"https://www.uaa.mx/portal/wp-content/uploads/2022/08/UAA-LOGO.png\">\n",
        "\n",
        "# UNIVERSIDAD AUTÓNOMA DE AGUASCALIENTES\n",
        "\n",
        "# CENTRO DE CIENCIAS BASICAS\n",
        "\n",
        "# DEPARTAMENTO DE CIENCIAS DE LA COMPUTACIÓN\n",
        "\n",
        "# APRENDIZAJE INTELIGENTE\n",
        "\n",
        "# INGENIERÍA EN COMPUTACIÓN INTELIGENTE\n",
        "\n",
        "# Examen Aprendizaje Inteligente Parcial II\n",
        "\n",
        "#Profesor: Francisco Javier Luna Rosas\n",
        "\n",
        "# César Omar Alatorre López \n",
        "\n",
        "# César Arturo Montoya Esqueda \n",
        "\n",
        "# Cristian Israel Donato Flores \n",
        "\n",
        "# Emilio Luna Pérez\n",
        "\n",
        "# Gabriel Melchor Campos\n",
        "\n",
        "# Semestre Enero-Junio 2023\n"
      ],
      "metadata": {
        "id": "SnavOAXvgpmi"
      }
    },
    {
      "cell_type": "markdown",
      "source": [
        "El análisis de sentimientos, a veces también denominado minería de opiniones, es una conocida \n",
        "sub-disciplina del amplio campo del PLN (Procesamiento del Lenguaje Natural); está relacionado \n",
        "con el análisis de la polaridad de documentos. Una tarea popular en el análisis de sentimiento es \n",
        "la clasificación de documentos basados en las emociones u opiniones expresadas de los autores \n",
        "respecto a un tema en particular. El conjunto de datos de críticas de cine consiste en 50000 \n",
        "críticas de cine polarizadas etiquetadas como negativas y como positivas. Aquí, positiva significa \n",
        "que una película ha sido clasificada con más de seis estrellas, mientras que negativa significa que \n",
        "una película ha sido clasificada con menos de cinco estrellas."
      ],
      "metadata": {
        "id": "FWuD5JFTMgfE"
      }
    },
    {
      "cell_type": "markdown",
      "source": [
        " a) Una explicación del Pre-procesamiento de datos para generar un formato adecuado de los datos. "
      ],
      "metadata": {
        "id": "vREsOwVwMjly"
      }
    },
    {
      "cell_type": "markdown",
      "source": [
        "Lectura el dataset"
      ],
      "metadata": {
        "id": "VTyvgFoPMopq"
      }
    },
    {
      "cell_type": "code",
      "execution_count": 1,
      "metadata": {
        "id": "X1T3BG2Xgn7H",
        "colab": {
          "base_uri": "https://localhost:8080/",
          "height": 363
        },
        "outputId": "fd28905b-7c1f-48b9-a8de-bcbb55f806e0"
      },
      "outputs": [
        {
          "output_type": "execute_result",
          "data": {
            "text/plain": [
              "                                              review  sentiment\n",
              "0  In 1974, the teenager Martha Moxley (Maggie Gr...          1\n",
              "1  OK... so... I really like Kris Kristofferson a...          0\n",
              "2  ***SPOILER*** Do not read this, if you think a...          0\n",
              "3  hi for all the people who have seen this wonde...          1\n",
              "4  I recently bought the DVD, forgetting just how...          0\n",
              "5  Leave it to Braik to put on a good show. Final...          1\n",
              "6  Nathan Detroit (Frank Sinatra) is the manager ...          1\n",
              "7  To understand \"Crash Course\" in the right cont...          1\n",
              "8  I've been impressed with Chavez's stance again...          1\n",
              "9  This movie is directed by Renny Harlin the fin...          1"
            ],
            "text/html": [
              "\n",
              "  <div id=\"df-57a7aa9b-4e57-4624-86a7-3206ec2c94af\">\n",
              "    <div class=\"colab-df-container\">\n",
              "      <div>\n",
              "<style scoped>\n",
              "    .dataframe tbody tr th:only-of-type {\n",
              "        vertical-align: middle;\n",
              "    }\n",
              "\n",
              "    .dataframe tbody tr th {\n",
              "        vertical-align: top;\n",
              "    }\n",
              "\n",
              "    .dataframe thead th {\n",
              "        text-align: right;\n",
              "    }\n",
              "</style>\n",
              "<table border=\"1\" class=\"dataframe\">\n",
              "  <thead>\n",
              "    <tr style=\"text-align: right;\">\n",
              "      <th></th>\n",
              "      <th>review</th>\n",
              "      <th>sentiment</th>\n",
              "    </tr>\n",
              "  </thead>\n",
              "  <tbody>\n",
              "    <tr>\n",
              "      <th>0</th>\n",
              "      <td>In 1974, the teenager Martha Moxley (Maggie Gr...</td>\n",
              "      <td>1</td>\n",
              "    </tr>\n",
              "    <tr>\n",
              "      <th>1</th>\n",
              "      <td>OK... so... I really like Kris Kristofferson a...</td>\n",
              "      <td>0</td>\n",
              "    </tr>\n",
              "    <tr>\n",
              "      <th>2</th>\n",
              "      <td>***SPOILER*** Do not read this, if you think a...</td>\n",
              "      <td>0</td>\n",
              "    </tr>\n",
              "    <tr>\n",
              "      <th>3</th>\n",
              "      <td>hi for all the people who have seen this wonde...</td>\n",
              "      <td>1</td>\n",
              "    </tr>\n",
              "    <tr>\n",
              "      <th>4</th>\n",
              "      <td>I recently bought the DVD, forgetting just how...</td>\n",
              "      <td>0</td>\n",
              "    </tr>\n",
              "    <tr>\n",
              "      <th>5</th>\n",
              "      <td>Leave it to Braik to put on a good show. Final...</td>\n",
              "      <td>1</td>\n",
              "    </tr>\n",
              "    <tr>\n",
              "      <th>6</th>\n",
              "      <td>Nathan Detroit (Frank Sinatra) is the manager ...</td>\n",
              "      <td>1</td>\n",
              "    </tr>\n",
              "    <tr>\n",
              "      <th>7</th>\n",
              "      <td>To understand \"Crash Course\" in the right cont...</td>\n",
              "      <td>1</td>\n",
              "    </tr>\n",
              "    <tr>\n",
              "      <th>8</th>\n",
              "      <td>I've been impressed with Chavez's stance again...</td>\n",
              "      <td>1</td>\n",
              "    </tr>\n",
              "    <tr>\n",
              "      <th>9</th>\n",
              "      <td>This movie is directed by Renny Harlin the fin...</td>\n",
              "      <td>1</td>\n",
              "    </tr>\n",
              "  </tbody>\n",
              "</table>\n",
              "</div>\n",
              "      <button class=\"colab-df-convert\" onclick=\"convertToInteractive('df-57a7aa9b-4e57-4624-86a7-3206ec2c94af')\"\n",
              "              title=\"Convert this dataframe to an interactive table.\"\n",
              "              style=\"display:none;\">\n",
              "        \n",
              "  <svg xmlns=\"http://www.w3.org/2000/svg\" height=\"24px\"viewBox=\"0 0 24 24\"\n",
              "       width=\"24px\">\n",
              "    <path d=\"M0 0h24v24H0V0z\" fill=\"none\"/>\n",
              "    <path d=\"M18.56 5.44l.94 2.06.94-2.06 2.06-.94-2.06-.94-.94-2.06-.94 2.06-2.06.94zm-11 1L8.5 8.5l.94-2.06 2.06-.94-2.06-.94L8.5 2.5l-.94 2.06-2.06.94zm10 10l.94 2.06.94-2.06 2.06-.94-2.06-.94-.94-2.06-.94 2.06-2.06.94z\"/><path d=\"M17.41 7.96l-1.37-1.37c-.4-.4-.92-.59-1.43-.59-.52 0-1.04.2-1.43.59L10.3 9.45l-7.72 7.72c-.78.78-.78 2.05 0 2.83L4 21.41c.39.39.9.59 1.41.59.51 0 1.02-.2 1.41-.59l7.78-7.78 2.81-2.81c.8-.78.8-2.07 0-2.86zM5.41 20L4 18.59l7.72-7.72 1.47 1.35L5.41 20z\"/>\n",
              "  </svg>\n",
              "      </button>\n",
              "      \n",
              "  <style>\n",
              "    .colab-df-container {\n",
              "      display:flex;\n",
              "      flex-wrap:wrap;\n",
              "      gap: 12px;\n",
              "    }\n",
              "\n",
              "    .colab-df-convert {\n",
              "      background-color: #E8F0FE;\n",
              "      border: none;\n",
              "      border-radius: 50%;\n",
              "      cursor: pointer;\n",
              "      display: none;\n",
              "      fill: #1967D2;\n",
              "      height: 32px;\n",
              "      padding: 0 0 0 0;\n",
              "      width: 32px;\n",
              "    }\n",
              "\n",
              "    .colab-df-convert:hover {\n",
              "      background-color: #E2EBFA;\n",
              "      box-shadow: 0px 1px 2px rgba(60, 64, 67, 0.3), 0px 1px 3px 1px rgba(60, 64, 67, 0.15);\n",
              "      fill: #174EA6;\n",
              "    }\n",
              "\n",
              "    [theme=dark] .colab-df-convert {\n",
              "      background-color: #3B4455;\n",
              "      fill: #D2E3FC;\n",
              "    }\n",
              "\n",
              "    [theme=dark] .colab-df-convert:hover {\n",
              "      background-color: #434B5C;\n",
              "      box-shadow: 0px 1px 3px 1px rgba(0, 0, 0, 0.15);\n",
              "      filter: drop-shadow(0px 1px 2px rgba(0, 0, 0, 0.3));\n",
              "      fill: #FFFFFF;\n",
              "    }\n",
              "  </style>\n",
              "\n",
              "      <script>\n",
              "        const buttonEl =\n",
              "          document.querySelector('#df-57a7aa9b-4e57-4624-86a7-3206ec2c94af button.colab-df-convert');\n",
              "        buttonEl.style.display =\n",
              "          google.colab.kernel.accessAllowed ? 'block' : 'none';\n",
              "\n",
              "        async function convertToInteractive(key) {\n",
              "          const element = document.querySelector('#df-57a7aa9b-4e57-4624-86a7-3206ec2c94af');\n",
              "          const dataTable =\n",
              "            await google.colab.kernel.invokeFunction('convertToInteractive',\n",
              "                                                     [key], {});\n",
              "          if (!dataTable) return;\n",
              "\n",
              "          const docLinkHtml = 'Like what you see? Visit the ' +\n",
              "            '<a target=\"_blank\" href=https://colab.research.google.com/notebooks/data_table.ipynb>data table notebook</a>'\n",
              "            + ' to learn more about interactive tables.';\n",
              "          element.innerHTML = '';\n",
              "          dataTable['output_type'] = 'display_data';\n",
              "          await google.colab.output.renderOutput(dataTable, element);\n",
              "          const docLink = document.createElement('div');\n",
              "          docLink.innerHTML = docLinkHtml;\n",
              "          element.appendChild(docLink);\n",
              "        }\n",
              "      </script>\n",
              "    </div>\n",
              "  </div>\n",
              "  "
            ]
          },
          "metadata": {},
          "execution_count": 1
        }
      ],
      "source": [
        "#Importamos pandas\n",
        "import pandas as pd\n",
        "#Leemos el dataset\n",
        "df = pd.read_csv('movie_data.csv')\n",
        "#Mostramos las primeras filas\n",
        "df.head(10)"
      ]
    },
    {
      "cell_type": "markdown",
      "source": [
        "Limpieza de datos"
      ],
      "metadata": {
        "id": "-aFrOD36cBXS"
      }
    },
    {
      "cell_type": "code",
      "source": [
        "#Funcion auxiliar de limpieza\n",
        "import re\n",
        "def Limpiador(text):\n",
        "    # Remover tags de html\n",
        "    text = re.sub('<[^<]*>','',text)\n",
        "    \n",
        "    # Almacenar temporalmente los emoticons\n",
        "    emoticons = ''.join(re.findall('[:;=]-+[\\)\\(pPD]+',text))\n",
        "    \n",
        "    # Elimine los caracteres que no son palabras y combinar los emoticones\n",
        "    text = re.sub('\\W+',' ',text.lower()) + emoticons.replace('-','')\n",
        "    \n",
        "    return text"
      ],
      "metadata": {
        "id": "rmksTDhTcEAd"
      },
      "execution_count": 2,
      "outputs": []
    },
    {
      "cell_type": "code",
      "source": [
        "#Funcion para remover emojis\n",
        "def RemoverEmoji(text):\n",
        "    emoji_pattern = re.compile(\"[\"\n",
        "                           u\"\\U0001F600-\\U0001F64F\"  # emoticons\n",
        "                           u\"\\U0001F300-\\U0001F5FF\"  # symbols & pictographs\n",
        "                           u\"\\U0001F680-\\U0001F6FF\"  # transport & map symbols\n",
        "                           u\"\\U0001F1E0-\\U0001F1FF\"  # flags (iOS)\n",
        "                           u\"\\U00002702-\\U000027B0\"\n",
        "                           u\"\\U000024C2-\\U0001F251\"\n",
        "                           \"]+\", flags=re.UNICODE)\n",
        "    return emoji_pattern.sub(r'', text)"
      ],
      "metadata": {
        "id": "kjx2xFRhe3r2"
      },
      "execution_count": 3,
      "outputs": []
    },
    {
      "cell_type": "code",
      "source": [
        "#Aplicamos los limpiadores\n",
        "df['review'] = df['review'].apply(Limpiador)"
      ],
      "metadata": {
        "id": "PqdwjchfhTp6"
      },
      "execution_count": 4,
      "outputs": []
    },
    {
      "cell_type": "code",
      "source": [
        "#Remover Emojis\n",
        "df['review']=df['review'].apply(lambda x: RemoverEmoji(x))"
      ],
      "metadata": {
        "id": "2Q1R3yUXhZ4e"
      },
      "execution_count": 5,
      "outputs": []
    },
    {
      "cell_type": "code",
      "source": [
        "#Normalizar a utf-8, remover acentos\n",
        "from unicodedata import normalize\n",
        "\n",
        "RemoverAcentos = lambda text: normalize(\"NFKD\", text).encode(\"ascii\", \"ignore\").decode(\"utf-8\", \"ignore\")\n",
        "\n",
        "df[\"review\"] = df[\"review\"].apply(RemoverAcentos)"
      ],
      "metadata": {
        "id": "VRkk2349idjA"
      },
      "execution_count": 6,
      "outputs": []
    },
    {
      "cell_type": "code",
      "source": [
        "#Mostramos datos limpios\n",
        "df.head(10)"
      ],
      "metadata": {
        "colab": {
          "base_uri": "https://localhost:8080/",
          "height": 363
        },
        "id": "XrNklGsdhnes",
        "outputId": "a4c34ca5-8d16-428e-9058-15c4d018ef1b"
      },
      "execution_count": 7,
      "outputs": [
        {
          "output_type": "execute_result",
          "data": {
            "text/plain": [
              "                                              review  sentiment\n",
              "0  in 1974 the teenager martha moxley maggie grac...          1\n",
              "1  ok so i really like kris kristofferson and his...          0\n",
              "2   spoiler do not read this if you think about w...          0\n",
              "3  hi for all the people who have seen this wonde...          1\n",
              "4  i recently bought the dvd forgetting just how ...          0\n",
              "5  leave it to braik to put on a good show finall...          1\n",
              "6  nathan detroit frank sinatra is the manager of...          1\n",
              "7  to understand crash course in the right contex...          1\n",
              "8  i ve been impressed with chavez s stance again...          1\n",
              "9  this movie is directed by renny harlin the fin...          1"
            ],
            "text/html": [
              "\n",
              "  <div id=\"df-4a99ef10-0997-405e-bbe9-1baa181c402d\">\n",
              "    <div class=\"colab-df-container\">\n",
              "      <div>\n",
              "<style scoped>\n",
              "    .dataframe tbody tr th:only-of-type {\n",
              "        vertical-align: middle;\n",
              "    }\n",
              "\n",
              "    .dataframe tbody tr th {\n",
              "        vertical-align: top;\n",
              "    }\n",
              "\n",
              "    .dataframe thead th {\n",
              "        text-align: right;\n",
              "    }\n",
              "</style>\n",
              "<table border=\"1\" class=\"dataframe\">\n",
              "  <thead>\n",
              "    <tr style=\"text-align: right;\">\n",
              "      <th></th>\n",
              "      <th>review</th>\n",
              "      <th>sentiment</th>\n",
              "    </tr>\n",
              "  </thead>\n",
              "  <tbody>\n",
              "    <tr>\n",
              "      <th>0</th>\n",
              "      <td>in 1974 the teenager martha moxley maggie grac...</td>\n",
              "      <td>1</td>\n",
              "    </tr>\n",
              "    <tr>\n",
              "      <th>1</th>\n",
              "      <td>ok so i really like kris kristofferson and his...</td>\n",
              "      <td>0</td>\n",
              "    </tr>\n",
              "    <tr>\n",
              "      <th>2</th>\n",
              "      <td>spoiler do not read this if you think about w...</td>\n",
              "      <td>0</td>\n",
              "    </tr>\n",
              "    <tr>\n",
              "      <th>3</th>\n",
              "      <td>hi for all the people who have seen this wonde...</td>\n",
              "      <td>1</td>\n",
              "    </tr>\n",
              "    <tr>\n",
              "      <th>4</th>\n",
              "      <td>i recently bought the dvd forgetting just how ...</td>\n",
              "      <td>0</td>\n",
              "    </tr>\n",
              "    <tr>\n",
              "      <th>5</th>\n",
              "      <td>leave it to braik to put on a good show finall...</td>\n",
              "      <td>1</td>\n",
              "    </tr>\n",
              "    <tr>\n",
              "      <th>6</th>\n",
              "      <td>nathan detroit frank sinatra is the manager of...</td>\n",
              "      <td>1</td>\n",
              "    </tr>\n",
              "    <tr>\n",
              "      <th>7</th>\n",
              "      <td>to understand crash course in the right contex...</td>\n",
              "      <td>1</td>\n",
              "    </tr>\n",
              "    <tr>\n",
              "      <th>8</th>\n",
              "      <td>i ve been impressed with chavez s stance again...</td>\n",
              "      <td>1</td>\n",
              "    </tr>\n",
              "    <tr>\n",
              "      <th>9</th>\n",
              "      <td>this movie is directed by renny harlin the fin...</td>\n",
              "      <td>1</td>\n",
              "    </tr>\n",
              "  </tbody>\n",
              "</table>\n",
              "</div>\n",
              "      <button class=\"colab-df-convert\" onclick=\"convertToInteractive('df-4a99ef10-0997-405e-bbe9-1baa181c402d')\"\n",
              "              title=\"Convert this dataframe to an interactive table.\"\n",
              "              style=\"display:none;\">\n",
              "        \n",
              "  <svg xmlns=\"http://www.w3.org/2000/svg\" height=\"24px\"viewBox=\"0 0 24 24\"\n",
              "       width=\"24px\">\n",
              "    <path d=\"M0 0h24v24H0V0z\" fill=\"none\"/>\n",
              "    <path d=\"M18.56 5.44l.94 2.06.94-2.06 2.06-.94-2.06-.94-.94-2.06-.94 2.06-2.06.94zm-11 1L8.5 8.5l.94-2.06 2.06-.94-2.06-.94L8.5 2.5l-.94 2.06-2.06.94zm10 10l.94 2.06.94-2.06 2.06-.94-2.06-.94-.94-2.06-.94 2.06-2.06.94z\"/><path d=\"M17.41 7.96l-1.37-1.37c-.4-.4-.92-.59-1.43-.59-.52 0-1.04.2-1.43.59L10.3 9.45l-7.72 7.72c-.78.78-.78 2.05 0 2.83L4 21.41c.39.39.9.59 1.41.59.51 0 1.02-.2 1.41-.59l7.78-7.78 2.81-2.81c.8-.78.8-2.07 0-2.86zM5.41 20L4 18.59l7.72-7.72 1.47 1.35L5.41 20z\"/>\n",
              "  </svg>\n",
              "      </button>\n",
              "      \n",
              "  <style>\n",
              "    .colab-df-container {\n",
              "      display:flex;\n",
              "      flex-wrap:wrap;\n",
              "      gap: 12px;\n",
              "    }\n",
              "\n",
              "    .colab-df-convert {\n",
              "      background-color: #E8F0FE;\n",
              "      border: none;\n",
              "      border-radius: 50%;\n",
              "      cursor: pointer;\n",
              "      display: none;\n",
              "      fill: #1967D2;\n",
              "      height: 32px;\n",
              "      padding: 0 0 0 0;\n",
              "      width: 32px;\n",
              "    }\n",
              "\n",
              "    .colab-df-convert:hover {\n",
              "      background-color: #E2EBFA;\n",
              "      box-shadow: 0px 1px 2px rgba(60, 64, 67, 0.3), 0px 1px 3px 1px rgba(60, 64, 67, 0.15);\n",
              "      fill: #174EA6;\n",
              "    }\n",
              "\n",
              "    [theme=dark] .colab-df-convert {\n",
              "      background-color: #3B4455;\n",
              "      fill: #D2E3FC;\n",
              "    }\n",
              "\n",
              "    [theme=dark] .colab-df-convert:hover {\n",
              "      background-color: #434B5C;\n",
              "      box-shadow: 0px 1px 3px 1px rgba(0, 0, 0, 0.15);\n",
              "      filter: drop-shadow(0px 1px 2px rgba(0, 0, 0, 0.3));\n",
              "      fill: #FFFFFF;\n",
              "    }\n",
              "  </style>\n",
              "\n",
              "      <script>\n",
              "        const buttonEl =\n",
              "          document.querySelector('#df-4a99ef10-0997-405e-bbe9-1baa181c402d button.colab-df-convert');\n",
              "        buttonEl.style.display =\n",
              "          google.colab.kernel.accessAllowed ? 'block' : 'none';\n",
              "\n",
              "        async function convertToInteractive(key) {\n",
              "          const element = document.querySelector('#df-4a99ef10-0997-405e-bbe9-1baa181c402d');\n",
              "          const dataTable =\n",
              "            await google.colab.kernel.invokeFunction('convertToInteractive',\n",
              "                                                     [key], {});\n",
              "          if (!dataTable) return;\n",
              "\n",
              "          const docLinkHtml = 'Like what you see? Visit the ' +\n",
              "            '<a target=\"_blank\" href=https://colab.research.google.com/notebooks/data_table.ipynb>data table notebook</a>'\n",
              "            + ' to learn more about interactive tables.';\n",
              "          element.innerHTML = '';\n",
              "          dataTable['output_type'] = 'display_data';\n",
              "          await google.colab.output.renderOutput(dataTable, element);\n",
              "          const docLink = document.createElement('div');\n",
              "          docLink.innerHTML = docLinkHtml;\n",
              "          element.appendChild(docLink);\n",
              "        }\n",
              "      </script>\n",
              "    </div>\n",
              "  </div>\n",
              "  "
            ]
          },
          "metadata": {},
          "execution_count": 7
        }
      ]
    },
    {
      "cell_type": "markdown",
      "source": [
        "b) Una explicación del modelo bolsa de palabras o cualquier otro analizador liguistico aplicado al \n",
        "Dataset de críticas de cine. "
      ],
      "metadata": {
        "id": "1tbAszvCOUqn"
      }
    },
    {
      "cell_type": "markdown",
      "source": [
        "Descargamos paquetes auxiliares del toolkit de procesamiento de lenguaje natural\n",
        "\n",
        "Hemos descargado la lista de palabras vacías (stopwords) de nltk, que es una biblioteca de procesamiento de lenguaje natural en Python."
      ],
      "metadata": {
        "id": "pyfnozI9nOGa"
      }
    },
    {
      "cell_type": "code",
      "source": [
        "#importamos el toolkit de procesamiento de lenguaje natural\n",
        "import nltk\n",
        "nltk.download('stopwords')\n",
        "import nltk\n",
        "nltk.download('punkt')"
      ],
      "metadata": {
        "colab": {
          "base_uri": "https://localhost:8080/"
        },
        "id": "f897jPlQnKvd",
        "outputId": "ed00c57f-79c5-45a5-c25d-d87ed34aae09"
      },
      "execution_count": 8,
      "outputs": [
        {
          "output_type": "stream",
          "name": "stderr",
          "text": [
            "[nltk_data] Downloading package stopwords to /root/nltk_data...\n",
            "[nltk_data]   Package stopwords is already up-to-date!\n",
            "[nltk_data] Downloading package punkt to /root/nltk_data...\n",
            "[nltk_data]   Package punkt is already up-to-date!\n"
          ]
        },
        {
          "output_type": "execute_result",
          "data": {
            "text/plain": [
              "True"
            ]
          },
          "metadata": {},
          "execution_count": 8
        }
      ]
    },
    {
      "cell_type": "markdown",
      "source": [
        "\n",
        "Las palabras vacías son palabras comunes que a menudo se eliminan de los textos durante el análisis de texto porque no aportan mucho significado en sí mismas. Ejemplos de palabras vacías en inglés incluyen \"a\", \"an\", \"the\", \"in\", \"on\", \"of\", etc."
      ],
      "metadata": {
        "id": "TDxonT5Xnwn-"
      }
    },
    {
      "cell_type": "code",
      "source": [
        "#Importamos stopwords\n",
        "from nltk.corpus import stopwords\n",
        "#Seleccionamos el lenguaje\n",
        "stop = stopwords.words('english')"
      ],
      "metadata": {
        "id": "toRgLKXBncK-"
      },
      "execution_count": 9,
      "outputs": []
    },
    {
      "cell_type": "code",
      "source": [
        "#Importamos el tokenizador de palabras\n",
        "from nltk import word_tokenize\n",
        "#Seleccioanmos idioma\n",
        "stop_words = set(stopwords.words('english'))\n",
        "#Seleccionamos la columna de review\n",
        "corpora = df[\"review\"].values\n",
        "#Tokenizamos todas las entradas del dataset en review\n",
        "tokenized = [word_tokenize(corpus) for corpus in corpora]\n"
      ],
      "metadata": {
        "id": "fthsbu9DKfO0"
      },
      "execution_count": null,
      "outputs": []
    },
    {
      "cell_type": "code",
      "source": [
        "#Eliminamos los stopwords de todas las entradas del dataset que ya ha sido tokenizado\n",
        "tokens_sin_stopwords = [[word for word in sublist if word.lower() not in stop_words] for sublist in tokenized]\n"
      ],
      "metadata": {
        "id": "EFtvfwBALuWm"
      },
      "execution_count": null,
      "outputs": []
    },
    {
      "cell_type": "code",
      "source": [
        "#Eliminamos las palabras de tamaño 1\n",
        "tokenized_final = [list(filter(lambda x: len(x) > 1, document)) \\\n",
        "             for document in tokens_sin_stopwords]\n"
      ],
      "metadata": {
        "id": "267HrllGLggs"
      },
      "execution_count": null,
      "outputs": []
    },
    {
      "cell_type": "code",
      "source": [
        "#Mostramos un ejemplo tokenizado y sin stopwords\n",
        "print(tokenized_final[2222])"
      ],
      "metadata": {
        "colab": {
          "base_uri": "https://localhost:8080/"
        },
        "id": "sGi10yZxNoMO",
        "outputId": "b7e60769-10ed-4ea2-8116-ee8c6936ac61"
      },
      "execution_count": null,
      "outputs": [
        {
          "output_type": "stream",
          "name": "stdout",
          "text": [
            "['let', 'see', 'advantages', 'watching', 'piranha', 'piranha', 'well', 'never', 'seen', 'anything', 'venezuela', 'lot', 'travelogue', 'footage', 'caracas', 'countryside', 'jungle', 'side', 'various', 'native', 'peoples', 'work', 'play', 'well', 'plenty', 'indigenous', 'wildlife', 'like', 'william', 'smith', 'plays', 'bit', 'git', 'always', 'wont', 'william', 'smith', 'could', 'probably', 'pass', 'fund', 'raising', 'film', 'save', 'children', 'organization', 'benefits', 'third', 'world', 'time', 'really', 'see', 'fish', 'title', 'opening', 'credits', 'mutant', 'killer', 'fish', 'like', 'roger', 'corman', 'singly', 'named', 'piranha', 'figure', 'twice', 'fish', 'title', 'would', 'twice', 'many', 'monster', 'fish', 'preying', 'characters', 'alas', 'case', 'story', 'starts', 'photojournalist', 'brother', 'coming', 'venezuela', 'story', 'one', 'last', 'untouched', 'places', 'planet', 'motivation', 'quickly', 'changes', 'one', 'wanting', 'find', 'diamonds', 'apparently', 'fairly', 'plentiful', 'lot', 'real', 'action', 'danger', 'movie', 'could', 'exciting', 'motorcycle', 'race', 'dulled', 'mass', 'landscape', 'animal', 'footage', 'inserted', 'draw', 'films', 'running', 'time', 'whole', 'lot', 'action', 'last', 'fifteen', 'minutes', 'movie', 'probably', 'long', 'movie', 'would', 'last', 'without', 'traveloguery', 'view', 'ways', 'movie', 'really', 'bad', 'movie', 'boring', 'incredibly', 'stupid', 'piranha', 'piranha', 'certainly', 'qualifies', 'former', 'badge', 'pretty', 'damn', 'close', 'second', 'reason', 'rate', 'added', 'footage', 'interesting', 'rest', 'movie']\n"
          ]
        }
      ]
    },
    {
      "cell_type": "markdown",
      "source": [
        "c) Una explicación de la transformación de las palabras en vectores de características (utilice la \n",
        "frecuencia de termino - frecuencia inversa de documento “tf-idf” o cualquier otra técnica que \n",
        "permita transformar palabras a vectores de características)."
      ],
      "metadata": {
        "id": "h6pZZzorOWkP"
      }
    },
    {
      "cell_type": "code",
      "source": [
        "%%time\n",
        "#Importamos la libreria de conversion de palabras a vectores\n",
        "from gensim.models import word2vec\n",
        "#Importamos numpy\n",
        "import numpy as np\n",
        "#Suprimimos las salidas\n",
        "np.set_printoptions(suppress=True)\n",
        "#Caracteristicas para convertir a vectores\n",
        "\n",
        "#Genracion de 513 columnas para entrenar\n",
        "feature_size = 513\n",
        "#Tamaño del contexto de palabras\n",
        "context_size = 8\n",
        "#Palabra minima para vectorizar\n",
        "min_word = 1\n",
        "\n",
        "word_vec= word2vec.Word2Vec(tokenized_final, vector_size=feature_size, \\\n",
        "                            window=context_size, min_count=min_word, \\\n",
        "                            epochs=100, seed=42)"
      ],
      "metadata": {
        "colab": {
          "base_uri": "https://localhost:8080/"
        },
        "id": "3ZkqUU-LNxOc",
        "outputId": "5fa7e432-81c9-43c4-bbba-e7b46587ee4a"
      },
      "execution_count": null,
      "outputs": [
        {
          "output_type": "stream",
          "name": "stdout",
          "text": [
            "CPU times: user 1h 11min 34s, sys: 11.3 s, total: 1h 11min 46s\n",
            "Wall time: 41min 2s\n"
          ]
        }
      ]
    },
    {
      "cell_type": "markdown",
      "source": [
        "Este código extrae los vectores de palabras de un modelo entrenado de Word2Vec y crea un dataframe de Pandas que contiene cada palabra como índice y sus correspondientes vectores como valores.\n",
        "\n",
        "La primera línea crea una lista de tuplas donde cada tupla contiene una palabra y su índice correspondiente en el modelo entrenado de Word2Vec. La segunda línea utiliza la función zip() de Python para separar las palabras y los índices en dos tuplas diferentes. La tercera línea crea un dataframe de Pandas utilizando los índices como índice de filas y los vectores correspondientes como valores en cada columna. Por último, la función head() se utiliza para mostrar las primeras filas del dataframe."
      ],
      "metadata": {
        "id": "6gdtSUhaAYvM"
      }
    },
    {
      "cell_type": "code",
      "source": [
        "# crea una lista de tuplas donde cada tupla contiene una palabra y su índice correspondiente en el modelo entrenado de Word2Vec\n",
        "word_vec_unpack = [(word, idx) for word, idx in \\\n",
        "                   word_vec.wv.key_to_index.items()]\n",
        "\n",
        "#segunda línea utiliza la función zip() de Python para separar las palabras y los índices en dos tuplas diferentes\n",
        "tokens, indexes = zip(*word_vec_unpack)\n",
        "\n",
        "#crea un dataframe de Pandas utilizando los índices como índice de filas y los vectores correspondientes como valores en cada columna\n",
        "word_vec_df = pd.DataFrame(word_vec.wv.vectors[indexes, :], index=tokens)\n",
        "\n",
        "#la función head() se utiliza para mostrar las primeras filas del dataframe\n",
        "word_vec_df.head()"
      ],
      "metadata": {
        "colab": {
          "base_uri": "https://localhost:8080/",
          "height": 300
        },
        "id": "h9b1jrAZXegM",
        "outputId": "7a9c6827-9407-44fd-b707-2a6156996e2e"
      },
      "execution_count": null,
      "outputs": [
        {
          "output_type": "execute_result",
          "data": {
            "text/plain": [
              "            0         1         2         3         4         5         6    \\\n",
              "movie  0.909647 -2.718915  0.985988  0.250298 -2.409328  0.930899  0.292603   \n",
              "film   0.813526 -1.436343  0.840692  0.987133 -2.487781  1.021468  0.344112   \n",
              "one    0.567326 -1.691533  0.754129  1.304220 -0.699987 -0.044660  0.176730   \n",
              "like   1.570343 -2.286618  0.675451 -0.854443 -0.448872 -0.258513  0.660953   \n",
              "good   1.434482 -1.447059  2.466118  0.251349  0.793027 -0.248066 -1.304903   \n",
              "\n",
              "            7         8         9    ...       503       504       505  \\\n",
              "movie -0.771331  1.375404  1.384636  ... -0.290232  2.436790 -0.055041   \n",
              "film  -0.540156  1.001559  1.742546  ... -1.069700  1.282892 -0.908652   \n",
              "one   -1.224390  0.011409  0.054717  ...  0.432627  0.150864 -0.605998   \n",
              "like  -0.419855  1.847473  1.502914  ... -0.735519  0.442971  0.501078   \n",
              "good   0.649498  1.954626  2.068033  ... -0.448067  1.676829  1.215439   \n",
              "\n",
              "            506       507       508       509       510       511       512  \n",
              "movie  0.289791 -0.519519  0.451160 -1.053871  0.972423 -0.804375 -0.807236  \n",
              "film   0.815983 -1.580091 -0.656278 -0.865545  0.300703 -0.384948 -1.388546  \n",
              "one   -0.016886 -0.100517 -0.133855 -1.446879 -0.945326 -0.890434 -0.096125  \n",
              "like   0.942887 -0.552244  1.753167 -0.141793  0.094328 -0.377412 -0.063978  \n",
              "good   0.000427 -0.773325  2.363121 -0.284882 -0.933245 -0.271371  1.396786  \n",
              "\n",
              "[5 rows x 513 columns]"
            ],
            "text/html": [
              "\n",
              "  <div id=\"df-0a2ee7e1-f034-492c-a971-ade3259ca479\">\n",
              "    <div class=\"colab-df-container\">\n",
              "      <div>\n",
              "<style scoped>\n",
              "    .dataframe tbody tr th:only-of-type {\n",
              "        vertical-align: middle;\n",
              "    }\n",
              "\n",
              "    .dataframe tbody tr th {\n",
              "        vertical-align: top;\n",
              "    }\n",
              "\n",
              "    .dataframe thead th {\n",
              "        text-align: right;\n",
              "    }\n",
              "</style>\n",
              "<table border=\"1\" class=\"dataframe\">\n",
              "  <thead>\n",
              "    <tr style=\"text-align: right;\">\n",
              "      <th></th>\n",
              "      <th>0</th>\n",
              "      <th>1</th>\n",
              "      <th>2</th>\n",
              "      <th>3</th>\n",
              "      <th>4</th>\n",
              "      <th>5</th>\n",
              "      <th>6</th>\n",
              "      <th>7</th>\n",
              "      <th>8</th>\n",
              "      <th>9</th>\n",
              "      <th>...</th>\n",
              "      <th>503</th>\n",
              "      <th>504</th>\n",
              "      <th>505</th>\n",
              "      <th>506</th>\n",
              "      <th>507</th>\n",
              "      <th>508</th>\n",
              "      <th>509</th>\n",
              "      <th>510</th>\n",
              "      <th>511</th>\n",
              "      <th>512</th>\n",
              "    </tr>\n",
              "  </thead>\n",
              "  <tbody>\n",
              "    <tr>\n",
              "      <th>movie</th>\n",
              "      <td>0.909647</td>\n",
              "      <td>-2.718915</td>\n",
              "      <td>0.985988</td>\n",
              "      <td>0.250298</td>\n",
              "      <td>-2.409328</td>\n",
              "      <td>0.930899</td>\n",
              "      <td>0.292603</td>\n",
              "      <td>-0.771331</td>\n",
              "      <td>1.375404</td>\n",
              "      <td>1.384636</td>\n",
              "      <td>...</td>\n",
              "      <td>-0.290232</td>\n",
              "      <td>2.436790</td>\n",
              "      <td>-0.055041</td>\n",
              "      <td>0.289791</td>\n",
              "      <td>-0.519519</td>\n",
              "      <td>0.451160</td>\n",
              "      <td>-1.053871</td>\n",
              "      <td>0.972423</td>\n",
              "      <td>-0.804375</td>\n",
              "      <td>-0.807236</td>\n",
              "    </tr>\n",
              "    <tr>\n",
              "      <th>film</th>\n",
              "      <td>0.813526</td>\n",
              "      <td>-1.436343</td>\n",
              "      <td>0.840692</td>\n",
              "      <td>0.987133</td>\n",
              "      <td>-2.487781</td>\n",
              "      <td>1.021468</td>\n",
              "      <td>0.344112</td>\n",
              "      <td>-0.540156</td>\n",
              "      <td>1.001559</td>\n",
              "      <td>1.742546</td>\n",
              "      <td>...</td>\n",
              "      <td>-1.069700</td>\n",
              "      <td>1.282892</td>\n",
              "      <td>-0.908652</td>\n",
              "      <td>0.815983</td>\n",
              "      <td>-1.580091</td>\n",
              "      <td>-0.656278</td>\n",
              "      <td>-0.865545</td>\n",
              "      <td>0.300703</td>\n",
              "      <td>-0.384948</td>\n",
              "      <td>-1.388546</td>\n",
              "    </tr>\n",
              "    <tr>\n",
              "      <th>one</th>\n",
              "      <td>0.567326</td>\n",
              "      <td>-1.691533</td>\n",
              "      <td>0.754129</td>\n",
              "      <td>1.304220</td>\n",
              "      <td>-0.699987</td>\n",
              "      <td>-0.044660</td>\n",
              "      <td>0.176730</td>\n",
              "      <td>-1.224390</td>\n",
              "      <td>0.011409</td>\n",
              "      <td>0.054717</td>\n",
              "      <td>...</td>\n",
              "      <td>0.432627</td>\n",
              "      <td>0.150864</td>\n",
              "      <td>-0.605998</td>\n",
              "      <td>-0.016886</td>\n",
              "      <td>-0.100517</td>\n",
              "      <td>-0.133855</td>\n",
              "      <td>-1.446879</td>\n",
              "      <td>-0.945326</td>\n",
              "      <td>-0.890434</td>\n",
              "      <td>-0.096125</td>\n",
              "    </tr>\n",
              "    <tr>\n",
              "      <th>like</th>\n",
              "      <td>1.570343</td>\n",
              "      <td>-2.286618</td>\n",
              "      <td>0.675451</td>\n",
              "      <td>-0.854443</td>\n",
              "      <td>-0.448872</td>\n",
              "      <td>-0.258513</td>\n",
              "      <td>0.660953</td>\n",
              "      <td>-0.419855</td>\n",
              "      <td>1.847473</td>\n",
              "      <td>1.502914</td>\n",
              "      <td>...</td>\n",
              "      <td>-0.735519</td>\n",
              "      <td>0.442971</td>\n",
              "      <td>0.501078</td>\n",
              "      <td>0.942887</td>\n",
              "      <td>-0.552244</td>\n",
              "      <td>1.753167</td>\n",
              "      <td>-0.141793</td>\n",
              "      <td>0.094328</td>\n",
              "      <td>-0.377412</td>\n",
              "      <td>-0.063978</td>\n",
              "    </tr>\n",
              "    <tr>\n",
              "      <th>good</th>\n",
              "      <td>1.434482</td>\n",
              "      <td>-1.447059</td>\n",
              "      <td>2.466118</td>\n",
              "      <td>0.251349</td>\n",
              "      <td>0.793027</td>\n",
              "      <td>-0.248066</td>\n",
              "      <td>-1.304903</td>\n",
              "      <td>0.649498</td>\n",
              "      <td>1.954626</td>\n",
              "      <td>2.068033</td>\n",
              "      <td>...</td>\n",
              "      <td>-0.448067</td>\n",
              "      <td>1.676829</td>\n",
              "      <td>1.215439</td>\n",
              "      <td>0.000427</td>\n",
              "      <td>-0.773325</td>\n",
              "      <td>2.363121</td>\n",
              "      <td>-0.284882</td>\n",
              "      <td>-0.933245</td>\n",
              "      <td>-0.271371</td>\n",
              "      <td>1.396786</td>\n",
              "    </tr>\n",
              "  </tbody>\n",
              "</table>\n",
              "<p>5 rows × 513 columns</p>\n",
              "</div>\n",
              "      <button class=\"colab-df-convert\" onclick=\"convertToInteractive('df-0a2ee7e1-f034-492c-a971-ade3259ca479')\"\n",
              "              title=\"Convert this dataframe to an interactive table.\"\n",
              "              style=\"display:none;\">\n",
              "        \n",
              "  <svg xmlns=\"http://www.w3.org/2000/svg\" height=\"24px\"viewBox=\"0 0 24 24\"\n",
              "       width=\"24px\">\n",
              "    <path d=\"M0 0h24v24H0V0z\" fill=\"none\"/>\n",
              "    <path d=\"M18.56 5.44l.94 2.06.94-2.06 2.06-.94-2.06-.94-.94-2.06-.94 2.06-2.06.94zm-11 1L8.5 8.5l.94-2.06 2.06-.94-2.06-.94L8.5 2.5l-.94 2.06-2.06.94zm10 10l.94 2.06.94-2.06 2.06-.94-2.06-.94-.94-2.06-.94 2.06-2.06.94z\"/><path d=\"M17.41 7.96l-1.37-1.37c-.4-.4-.92-.59-1.43-.59-.52 0-1.04.2-1.43.59L10.3 9.45l-7.72 7.72c-.78.78-.78 2.05 0 2.83L4 21.41c.39.39.9.59 1.41.59.51 0 1.02-.2 1.41-.59l7.78-7.78 2.81-2.81c.8-.78.8-2.07 0-2.86zM5.41 20L4 18.59l7.72-7.72 1.47 1.35L5.41 20z\"/>\n",
              "  </svg>\n",
              "      </button>\n",
              "      \n",
              "  <style>\n",
              "    .colab-df-container {\n",
              "      display:flex;\n",
              "      flex-wrap:wrap;\n",
              "      gap: 12px;\n",
              "    }\n",
              "\n",
              "    .colab-df-convert {\n",
              "      background-color: #E8F0FE;\n",
              "      border: none;\n",
              "      border-radius: 50%;\n",
              "      cursor: pointer;\n",
              "      display: none;\n",
              "      fill: #1967D2;\n",
              "      height: 32px;\n",
              "      padding: 0 0 0 0;\n",
              "      width: 32px;\n",
              "    }\n",
              "\n",
              "    .colab-df-convert:hover {\n",
              "      background-color: #E2EBFA;\n",
              "      box-shadow: 0px 1px 2px rgba(60, 64, 67, 0.3), 0px 1px 3px 1px rgba(60, 64, 67, 0.15);\n",
              "      fill: #174EA6;\n",
              "    }\n",
              "\n",
              "    [theme=dark] .colab-df-convert {\n",
              "      background-color: #3B4455;\n",
              "      fill: #D2E3FC;\n",
              "    }\n",
              "\n",
              "    [theme=dark] .colab-df-convert:hover {\n",
              "      background-color: #434B5C;\n",
              "      box-shadow: 0px 1px 3px 1px rgba(0, 0, 0, 0.15);\n",
              "      filter: drop-shadow(0px 1px 2px rgba(0, 0, 0, 0.3));\n",
              "      fill: #FFFFFF;\n",
              "    }\n",
              "  </style>\n",
              "\n",
              "      <script>\n",
              "        const buttonEl =\n",
              "          document.querySelector('#df-0a2ee7e1-f034-492c-a971-ade3259ca479 button.colab-df-convert');\n",
              "        buttonEl.style.display =\n",
              "          google.colab.kernel.accessAllowed ? 'block' : 'none';\n",
              "\n",
              "        async function convertToInteractive(key) {\n",
              "          const element = document.querySelector('#df-0a2ee7e1-f034-492c-a971-ade3259ca479');\n",
              "          const dataTable =\n",
              "            await google.colab.kernel.invokeFunction('convertToInteractive',\n",
              "                                                     [key], {});\n",
              "          if (!dataTable) return;\n",
              "\n",
              "          const docLinkHtml = 'Like what you see? Visit the ' +\n",
              "            '<a target=\"_blank\" href=https://colab.research.google.com/notebooks/data_table.ipynb>data table notebook</a>'\n",
              "            + ' to learn more about interactive tables.';\n",
              "          element.innerHTML = '';\n",
              "          dataTable['output_type'] = 'display_data';\n",
              "          await google.colab.output.renderOutput(dataTable, element);\n",
              "          const docLink = document.createElement('div');\n",
              "          docLink.innerHTML = docLinkHtml;\n",
              "          element.appendChild(docLink);\n",
              "        }\n",
              "      </script>\n",
              "    </div>\n",
              "  </div>\n",
              "  "
            ]
          },
          "metadata": {},
          "execution_count": 28
        }
      ]
    },
    {
      "cell_type": "code",
      "source": [
        "# crea una matriz NumPy a partir de los tokens previamente procesados\n",
        "tokenized_array = np.array(tokenized_final)\n",
        "#se crea una matriz de modelo para cada documento en el corpus procesado, promediando los vectores de cada palabra en el documento utilizando la matriz previamente creada\n",
        "model_array = np.array([word_vec_df.loc[doc].mean(axis=0) for doc in tokenized_array])"
      ],
      "metadata": {
        "colab": {
          "base_uri": "https://localhost:8080/"
        },
        "id": "IF3eJHsVX6va",
        "outputId": "08a6fd57-104b-4301-97a1-c4cb588757fe"
      },
      "execution_count": null,
      "outputs": [
        {
          "output_type": "stream",
          "name": "stderr",
          "text": [
            "<ipython-input-29-0cdf267a2b85>:1: VisibleDeprecationWarning: Creating an ndarray from ragged nested sequences (which is a list-or-tuple of lists-or-tuples-or ndarrays with different lengths or shapes) is deprecated. If you meant to do this, you must specify 'dtype=object' when creating the ndarray.\n",
            "  tokenized_array = np.array(tokenized_final)\n"
          ]
        }
      ]
    },
    {
      "cell_type": "code",
      "source": [
        "#Creamos un nuevo dataframe\n",
        "model_df = pd.DataFrame(model_array)\n",
        "#Agregamos la columna de sentimiento\n",
        "model_df[\"sentiment\"] = df[\"sentiment\"]\n",
        "\n",
        "model_df.head()"
      ],
      "metadata": {
        "colab": {
          "base_uri": "https://localhost:8080/",
          "height": 300
        },
        "id": "Q4Is70xSYKSt",
        "outputId": "000f9e28-c7c1-4186-a4b9-befb8974f568"
      },
      "execution_count": null,
      "outputs": [
        {
          "output_type": "execute_result",
          "data": {
            "text/plain": [
              "          0         1         2         3         4         5         6  \\\n",
              "0 -0.169650  0.040839 -0.158676  0.221132 -0.250082  0.185220  0.281665   \n",
              "1  0.406780 -0.665606  0.337715 -0.177916 -0.312566  0.404141  0.508959   \n",
              "2  0.404465 -0.548155  0.494654  0.189635 -0.405861  0.196647  0.224892   \n",
              "3  0.126849 -0.628585  0.131086 -0.025734 -0.728363  0.386605 -0.092782   \n",
              "4  0.196912 -0.306949  0.293701  0.361708 -0.412905  0.113512  0.086672   \n",
              "\n",
              "          7         8         9  ...       504       505       506       507  \\\n",
              "0  0.021481  0.344159 -0.705347  ... -0.155607 -0.171526  0.077252  0.018498   \n",
              "1  0.059682  0.237877  0.503239  ...  0.661522  0.013925 -0.066301 -0.038875   \n",
              "2 -0.037889  0.374644  0.426578  ...  0.312150 -0.035881  0.104245 -0.072144   \n",
              "3  0.133146 -0.148128  0.696161  ...  0.452121  0.635072 -0.500141 -0.247066   \n",
              "4  0.271352  0.234117  0.788466  ...  0.271187  0.387739 -0.005168 -0.066674   \n",
              "\n",
              "        508       509       510       511       512  sentiment  \n",
              "0  0.023158  0.156144 -0.361386  0.012767 -0.131471          1  \n",
              "1  0.466838  0.087624  0.365904 -0.096943  0.267603          0  \n",
              "2 -0.021473 -0.154046  0.147334 -0.022107 -0.081960          0  \n",
              "3  0.022408 -0.537783  0.142079 -0.048278 -0.339399          1  \n",
              "4  0.222655  0.006991 -0.272521 -0.306186 -0.556715          0  \n",
              "\n",
              "[5 rows x 514 columns]"
            ],
            "text/html": [
              "\n",
              "  <div id=\"df-89e75cd8-3976-458f-a089-6f33d2f0ed78\">\n",
              "    <div class=\"colab-df-container\">\n",
              "      <div>\n",
              "<style scoped>\n",
              "    .dataframe tbody tr th:only-of-type {\n",
              "        vertical-align: middle;\n",
              "    }\n",
              "\n",
              "    .dataframe tbody tr th {\n",
              "        vertical-align: top;\n",
              "    }\n",
              "\n",
              "    .dataframe thead th {\n",
              "        text-align: right;\n",
              "    }\n",
              "</style>\n",
              "<table border=\"1\" class=\"dataframe\">\n",
              "  <thead>\n",
              "    <tr style=\"text-align: right;\">\n",
              "      <th></th>\n",
              "      <th>0</th>\n",
              "      <th>1</th>\n",
              "      <th>2</th>\n",
              "      <th>3</th>\n",
              "      <th>4</th>\n",
              "      <th>5</th>\n",
              "      <th>6</th>\n",
              "      <th>7</th>\n",
              "      <th>8</th>\n",
              "      <th>9</th>\n",
              "      <th>...</th>\n",
              "      <th>504</th>\n",
              "      <th>505</th>\n",
              "      <th>506</th>\n",
              "      <th>507</th>\n",
              "      <th>508</th>\n",
              "      <th>509</th>\n",
              "      <th>510</th>\n",
              "      <th>511</th>\n",
              "      <th>512</th>\n",
              "      <th>sentiment</th>\n",
              "    </tr>\n",
              "  </thead>\n",
              "  <tbody>\n",
              "    <tr>\n",
              "      <th>0</th>\n",
              "      <td>-0.169650</td>\n",
              "      <td>0.040839</td>\n",
              "      <td>-0.158676</td>\n",
              "      <td>0.221132</td>\n",
              "      <td>-0.250082</td>\n",
              "      <td>0.185220</td>\n",
              "      <td>0.281665</td>\n",
              "      <td>0.021481</td>\n",
              "      <td>0.344159</td>\n",
              "      <td>-0.705347</td>\n",
              "      <td>...</td>\n",
              "      <td>-0.155607</td>\n",
              "      <td>-0.171526</td>\n",
              "      <td>0.077252</td>\n",
              "      <td>0.018498</td>\n",
              "      <td>0.023158</td>\n",
              "      <td>0.156144</td>\n",
              "      <td>-0.361386</td>\n",
              "      <td>0.012767</td>\n",
              "      <td>-0.131471</td>\n",
              "      <td>1</td>\n",
              "    </tr>\n",
              "    <tr>\n",
              "      <th>1</th>\n",
              "      <td>0.406780</td>\n",
              "      <td>-0.665606</td>\n",
              "      <td>0.337715</td>\n",
              "      <td>-0.177916</td>\n",
              "      <td>-0.312566</td>\n",
              "      <td>0.404141</td>\n",
              "      <td>0.508959</td>\n",
              "      <td>0.059682</td>\n",
              "      <td>0.237877</td>\n",
              "      <td>0.503239</td>\n",
              "      <td>...</td>\n",
              "      <td>0.661522</td>\n",
              "      <td>0.013925</td>\n",
              "      <td>-0.066301</td>\n",
              "      <td>-0.038875</td>\n",
              "      <td>0.466838</td>\n",
              "      <td>0.087624</td>\n",
              "      <td>0.365904</td>\n",
              "      <td>-0.096943</td>\n",
              "      <td>0.267603</td>\n",
              "      <td>0</td>\n",
              "    </tr>\n",
              "    <tr>\n",
              "      <th>2</th>\n",
              "      <td>0.404465</td>\n",
              "      <td>-0.548155</td>\n",
              "      <td>0.494654</td>\n",
              "      <td>0.189635</td>\n",
              "      <td>-0.405861</td>\n",
              "      <td>0.196647</td>\n",
              "      <td>0.224892</td>\n",
              "      <td>-0.037889</td>\n",
              "      <td>0.374644</td>\n",
              "      <td>0.426578</td>\n",
              "      <td>...</td>\n",
              "      <td>0.312150</td>\n",
              "      <td>-0.035881</td>\n",
              "      <td>0.104245</td>\n",
              "      <td>-0.072144</td>\n",
              "      <td>-0.021473</td>\n",
              "      <td>-0.154046</td>\n",
              "      <td>0.147334</td>\n",
              "      <td>-0.022107</td>\n",
              "      <td>-0.081960</td>\n",
              "      <td>0</td>\n",
              "    </tr>\n",
              "    <tr>\n",
              "      <th>3</th>\n",
              "      <td>0.126849</td>\n",
              "      <td>-0.628585</td>\n",
              "      <td>0.131086</td>\n",
              "      <td>-0.025734</td>\n",
              "      <td>-0.728363</td>\n",
              "      <td>0.386605</td>\n",
              "      <td>-0.092782</td>\n",
              "      <td>0.133146</td>\n",
              "      <td>-0.148128</td>\n",
              "      <td>0.696161</td>\n",
              "      <td>...</td>\n",
              "      <td>0.452121</td>\n",
              "      <td>0.635072</td>\n",
              "      <td>-0.500141</td>\n",
              "      <td>-0.247066</td>\n",
              "      <td>0.022408</td>\n",
              "      <td>-0.537783</td>\n",
              "      <td>0.142079</td>\n",
              "      <td>-0.048278</td>\n",
              "      <td>-0.339399</td>\n",
              "      <td>1</td>\n",
              "    </tr>\n",
              "    <tr>\n",
              "      <th>4</th>\n",
              "      <td>0.196912</td>\n",
              "      <td>-0.306949</td>\n",
              "      <td>0.293701</td>\n",
              "      <td>0.361708</td>\n",
              "      <td>-0.412905</td>\n",
              "      <td>0.113512</td>\n",
              "      <td>0.086672</td>\n",
              "      <td>0.271352</td>\n",
              "      <td>0.234117</td>\n",
              "      <td>0.788466</td>\n",
              "      <td>...</td>\n",
              "      <td>0.271187</td>\n",
              "      <td>0.387739</td>\n",
              "      <td>-0.005168</td>\n",
              "      <td>-0.066674</td>\n",
              "      <td>0.222655</td>\n",
              "      <td>0.006991</td>\n",
              "      <td>-0.272521</td>\n",
              "      <td>-0.306186</td>\n",
              "      <td>-0.556715</td>\n",
              "      <td>0</td>\n",
              "    </tr>\n",
              "  </tbody>\n",
              "</table>\n",
              "<p>5 rows × 514 columns</p>\n",
              "</div>\n",
              "      <button class=\"colab-df-convert\" onclick=\"convertToInteractive('df-89e75cd8-3976-458f-a089-6f33d2f0ed78')\"\n",
              "              title=\"Convert this dataframe to an interactive table.\"\n",
              "              style=\"display:none;\">\n",
              "        \n",
              "  <svg xmlns=\"http://www.w3.org/2000/svg\" height=\"24px\"viewBox=\"0 0 24 24\"\n",
              "       width=\"24px\">\n",
              "    <path d=\"M0 0h24v24H0V0z\" fill=\"none\"/>\n",
              "    <path d=\"M18.56 5.44l.94 2.06.94-2.06 2.06-.94-2.06-.94-.94-2.06-.94 2.06-2.06.94zm-11 1L8.5 8.5l.94-2.06 2.06-.94-2.06-.94L8.5 2.5l-.94 2.06-2.06.94zm10 10l.94 2.06.94-2.06 2.06-.94-2.06-.94-.94-2.06-.94 2.06-2.06.94z\"/><path d=\"M17.41 7.96l-1.37-1.37c-.4-.4-.92-.59-1.43-.59-.52 0-1.04.2-1.43.59L10.3 9.45l-7.72 7.72c-.78.78-.78 2.05 0 2.83L4 21.41c.39.39.9.59 1.41.59.51 0 1.02-.2 1.41-.59l7.78-7.78 2.81-2.81c.8-.78.8-2.07 0-2.86zM5.41 20L4 18.59l7.72-7.72 1.47 1.35L5.41 20z\"/>\n",
              "  </svg>\n",
              "      </button>\n",
              "      \n",
              "  <style>\n",
              "    .colab-df-container {\n",
              "      display:flex;\n",
              "      flex-wrap:wrap;\n",
              "      gap: 12px;\n",
              "    }\n",
              "\n",
              "    .colab-df-convert {\n",
              "      background-color: #E8F0FE;\n",
              "      border: none;\n",
              "      border-radius: 50%;\n",
              "      cursor: pointer;\n",
              "      display: none;\n",
              "      fill: #1967D2;\n",
              "      height: 32px;\n",
              "      padding: 0 0 0 0;\n",
              "      width: 32px;\n",
              "    }\n",
              "\n",
              "    .colab-df-convert:hover {\n",
              "      background-color: #E2EBFA;\n",
              "      box-shadow: 0px 1px 2px rgba(60, 64, 67, 0.3), 0px 1px 3px 1px rgba(60, 64, 67, 0.15);\n",
              "      fill: #174EA6;\n",
              "    }\n",
              "\n",
              "    [theme=dark] .colab-df-convert {\n",
              "      background-color: #3B4455;\n",
              "      fill: #D2E3FC;\n",
              "    }\n",
              "\n",
              "    [theme=dark] .colab-df-convert:hover {\n",
              "      background-color: #434B5C;\n",
              "      box-shadow: 0px 1px 3px 1px rgba(0, 0, 0, 0.15);\n",
              "      filter: drop-shadow(0px 1px 2px rgba(0, 0, 0, 0.3));\n",
              "      fill: #FFFFFF;\n",
              "    }\n",
              "  </style>\n",
              "\n",
              "      <script>\n",
              "        const buttonEl =\n",
              "          document.querySelector('#df-89e75cd8-3976-458f-a089-6f33d2f0ed78 button.colab-df-convert');\n",
              "        buttonEl.style.display =\n",
              "          google.colab.kernel.accessAllowed ? 'block' : 'none';\n",
              "\n",
              "        async function convertToInteractive(key) {\n",
              "          const element = document.querySelector('#df-89e75cd8-3976-458f-a089-6f33d2f0ed78');\n",
              "          const dataTable =\n",
              "            await google.colab.kernel.invokeFunction('convertToInteractive',\n",
              "                                                     [key], {});\n",
              "          if (!dataTable) return;\n",
              "\n",
              "          const docLinkHtml = 'Like what you see? Visit the ' +\n",
              "            '<a target=\"_blank\" href=https://colab.research.google.com/notebooks/data_table.ipynb>data table notebook</a>'\n",
              "            + ' to learn more about interactive tables.';\n",
              "          element.innerHTML = '';\n",
              "          dataTable['output_type'] = 'display_data';\n",
              "          await google.colab.output.renderOutput(dataTable, element);\n",
              "          const docLink = document.createElement('div');\n",
              "          docLink.innerHTML = docLinkHtml;\n",
              "          element.appendChild(docLink);\n",
              "        }\n",
              "      </script>\n",
              "    </div>\n",
              "  </div>\n",
              "  "
            ]
          },
          "metadata": {},
          "execution_count": 30
        }
      ]
    },
    {
      "cell_type": "code",
      "source": [
        "#Guardamos el dataframe para poder entrenar como un nuevo dataset\n",
        "model_df.to_csv('procesed_movie_data2.csv', encoding='utf-8',index=False)"
      ],
      "metadata": {
        "id": "hL1nzLExYSYW"
      },
      "execution_count": null,
      "outputs": []
    },
    {
      "cell_type": "code",
      "source": [
        "#Asignamos la variable de clases\n",
        "y=model_df[\"sentiment\"]\n",
        "y"
      ],
      "metadata": {
        "colab": {
          "base_uri": "https://localhost:8080/"
        },
        "id": "PMhgzwXiY3WN",
        "outputId": "411b1dd8-0aaf-4b7b-cb3d-b63c9c828cd3"
      },
      "execution_count": null,
      "outputs": [
        {
          "output_type": "execute_result",
          "data": {
            "text/plain": [
              "0        1\n",
              "1        0\n",
              "2        0\n",
              "3        1\n",
              "4        0\n",
              "        ..\n",
              "49995    0\n",
              "49996    0\n",
              "49997    0\n",
              "49998    0\n",
              "49999    1\n",
              "Name: sentiment, Length: 50000, dtype: int64"
            ]
          },
          "metadata": {},
          "execution_count": 33
        }
      ]
    },
    {
      "cell_type": "code",
      "source": [
        "#Eliminamos la columna y dejamos la variables para predecir\n",
        "del model_df[\"sentiment\"]\n",
        "x=model_df"
      ],
      "metadata": {
        "colab": {
          "base_uri": "https://localhost:8080/",
          "height": 488
        },
        "id": "R2QkkNJXY8zu",
        "outputId": "957a2368-5172-4167-ba1b-3af254a11842"
      },
      "execution_count": null,
      "outputs": [
        {
          "output_type": "execute_result",
          "data": {
            "text/plain": [
              "            0         1         2         3         4         5         6    \\\n",
              "0     -0.169650  0.040839 -0.158676  0.221132 -0.250082  0.185220  0.281665   \n",
              "1      0.406780 -0.665606  0.337715 -0.177916 -0.312566  0.404141  0.508959   \n",
              "2      0.404465 -0.548155  0.494654  0.189635 -0.405861  0.196647  0.224892   \n",
              "3      0.126849 -0.628585  0.131086 -0.025734 -0.728363  0.386605 -0.092782   \n",
              "4      0.196912 -0.306949  0.293701  0.361708 -0.412905  0.113512  0.086672   \n",
              "...         ...       ...       ...       ...       ...       ...       ...   \n",
              "49995  0.309287 -0.687856  0.659682 -0.070795 -0.650750 -0.192954  0.024997   \n",
              "49996  0.303875 -0.304371  0.028952  0.265784 -0.287641 -0.172426  0.199983   \n",
              "49997 -0.121825 -0.859796  0.568429 -0.255578 -0.920834  0.295648  0.257472   \n",
              "49998  0.462176 -0.246672 -0.155935  0.349714 -0.163377  0.056947  0.257554   \n",
              "49999  0.627316 -1.108872  0.717006 -0.018008 -0.286282  0.420880 -0.297655   \n",
              "\n",
              "            7         8         9    ...       503       504       505  \\\n",
              "0      0.021481  0.344159 -0.705347  ...  0.220943 -0.155607 -0.171526   \n",
              "1      0.059682  0.237877  0.503239  ... -0.292132  0.661522  0.013925   \n",
              "2     -0.037889  0.374644  0.426578  ... -0.041440  0.312150 -0.035881   \n",
              "3      0.133146 -0.148128  0.696161  ... -0.738191  0.452121  0.635072   \n",
              "4      0.271352  0.234117  0.788466  ... -0.311143  0.271187  0.387739   \n",
              "...         ...       ...       ...  ...       ...       ...       ...   \n",
              "49995 -0.256548  0.081913  0.554736  ... -0.433658  0.573043 -0.071213   \n",
              "49996 -0.054270  0.160397  0.221857  ... -0.218846  0.029128  0.085504   \n",
              "49997 -0.067545  0.547711  0.502695  ... -0.113891  0.525230 -0.025840   \n",
              "49998 -0.079607  0.359126 -0.064576  ... -0.263946  0.822437  0.068437   \n",
              "49999  0.083296  0.353531  0.768508  ... -0.250238  0.914385  0.073243   \n",
              "\n",
              "            506       507       508       509       510       511       512  \n",
              "0      0.077252  0.018498  0.023158  0.156144 -0.361386  0.012767 -0.131471  \n",
              "1     -0.066301 -0.038875  0.466838  0.087624  0.365904 -0.096943  0.267603  \n",
              "2      0.104245 -0.072144 -0.021473 -0.154046  0.147334 -0.022107 -0.081960  \n",
              "3     -0.500141 -0.247066  0.022408 -0.537783  0.142079 -0.048278 -0.339399  \n",
              "4     -0.005168 -0.066674  0.222655  0.006991 -0.272521 -0.306186 -0.556715  \n",
              "...         ...       ...       ...       ...       ...       ...       ...  \n",
              "49995  0.177876 -0.001702  0.215655 -0.199557  0.074139  0.026097 -0.160296  \n",
              "49996  0.209418 -0.415298  0.069952  0.114707  0.388595 -0.006916 -0.157714  \n",
              "49997  0.087715  0.375971 -0.146961 -0.385159 -0.011386 -0.169780  0.107786  \n",
              "49998 -0.180231 -0.110554  0.126845 -0.261674 -0.090120  0.078416 -0.247736  \n",
              "49999  0.516881 -0.041286  0.370924 -0.181847  0.296534 -0.183770 -0.267741  \n",
              "\n",
              "[50000 rows x 513 columns]"
            ],
            "text/html": [
              "\n",
              "  <div id=\"df-dbec5525-5e97-4d8b-9940-994165ca8be5\">\n",
              "    <div class=\"colab-df-container\">\n",
              "      <div>\n",
              "<style scoped>\n",
              "    .dataframe tbody tr th:only-of-type {\n",
              "        vertical-align: middle;\n",
              "    }\n",
              "\n",
              "    .dataframe tbody tr th {\n",
              "        vertical-align: top;\n",
              "    }\n",
              "\n",
              "    .dataframe thead th {\n",
              "        text-align: right;\n",
              "    }\n",
              "</style>\n",
              "<table border=\"1\" class=\"dataframe\">\n",
              "  <thead>\n",
              "    <tr style=\"text-align: right;\">\n",
              "      <th></th>\n",
              "      <th>0</th>\n",
              "      <th>1</th>\n",
              "      <th>2</th>\n",
              "      <th>3</th>\n",
              "      <th>4</th>\n",
              "      <th>5</th>\n",
              "      <th>6</th>\n",
              "      <th>7</th>\n",
              "      <th>8</th>\n",
              "      <th>9</th>\n",
              "      <th>...</th>\n",
              "      <th>503</th>\n",
              "      <th>504</th>\n",
              "      <th>505</th>\n",
              "      <th>506</th>\n",
              "      <th>507</th>\n",
              "      <th>508</th>\n",
              "      <th>509</th>\n",
              "      <th>510</th>\n",
              "      <th>511</th>\n",
              "      <th>512</th>\n",
              "    </tr>\n",
              "  </thead>\n",
              "  <tbody>\n",
              "    <tr>\n",
              "      <th>0</th>\n",
              "      <td>-0.169650</td>\n",
              "      <td>0.040839</td>\n",
              "      <td>-0.158676</td>\n",
              "      <td>0.221132</td>\n",
              "      <td>-0.250082</td>\n",
              "      <td>0.185220</td>\n",
              "      <td>0.281665</td>\n",
              "      <td>0.021481</td>\n",
              "      <td>0.344159</td>\n",
              "      <td>-0.705347</td>\n",
              "      <td>...</td>\n",
              "      <td>0.220943</td>\n",
              "      <td>-0.155607</td>\n",
              "      <td>-0.171526</td>\n",
              "      <td>0.077252</td>\n",
              "      <td>0.018498</td>\n",
              "      <td>0.023158</td>\n",
              "      <td>0.156144</td>\n",
              "      <td>-0.361386</td>\n",
              "      <td>0.012767</td>\n",
              "      <td>-0.131471</td>\n",
              "    </tr>\n",
              "    <tr>\n",
              "      <th>1</th>\n",
              "      <td>0.406780</td>\n",
              "      <td>-0.665606</td>\n",
              "      <td>0.337715</td>\n",
              "      <td>-0.177916</td>\n",
              "      <td>-0.312566</td>\n",
              "      <td>0.404141</td>\n",
              "      <td>0.508959</td>\n",
              "      <td>0.059682</td>\n",
              "      <td>0.237877</td>\n",
              "      <td>0.503239</td>\n",
              "      <td>...</td>\n",
              "      <td>-0.292132</td>\n",
              "      <td>0.661522</td>\n",
              "      <td>0.013925</td>\n",
              "      <td>-0.066301</td>\n",
              "      <td>-0.038875</td>\n",
              "      <td>0.466838</td>\n",
              "      <td>0.087624</td>\n",
              "      <td>0.365904</td>\n",
              "      <td>-0.096943</td>\n",
              "      <td>0.267603</td>\n",
              "    </tr>\n",
              "    <tr>\n",
              "      <th>2</th>\n",
              "      <td>0.404465</td>\n",
              "      <td>-0.548155</td>\n",
              "      <td>0.494654</td>\n",
              "      <td>0.189635</td>\n",
              "      <td>-0.405861</td>\n",
              "      <td>0.196647</td>\n",
              "      <td>0.224892</td>\n",
              "      <td>-0.037889</td>\n",
              "      <td>0.374644</td>\n",
              "      <td>0.426578</td>\n",
              "      <td>...</td>\n",
              "      <td>-0.041440</td>\n",
              "      <td>0.312150</td>\n",
              "      <td>-0.035881</td>\n",
              "      <td>0.104245</td>\n",
              "      <td>-0.072144</td>\n",
              "      <td>-0.021473</td>\n",
              "      <td>-0.154046</td>\n",
              "      <td>0.147334</td>\n",
              "      <td>-0.022107</td>\n",
              "      <td>-0.081960</td>\n",
              "    </tr>\n",
              "    <tr>\n",
              "      <th>3</th>\n",
              "      <td>0.126849</td>\n",
              "      <td>-0.628585</td>\n",
              "      <td>0.131086</td>\n",
              "      <td>-0.025734</td>\n",
              "      <td>-0.728363</td>\n",
              "      <td>0.386605</td>\n",
              "      <td>-0.092782</td>\n",
              "      <td>0.133146</td>\n",
              "      <td>-0.148128</td>\n",
              "      <td>0.696161</td>\n",
              "      <td>...</td>\n",
              "      <td>-0.738191</td>\n",
              "      <td>0.452121</td>\n",
              "      <td>0.635072</td>\n",
              "      <td>-0.500141</td>\n",
              "      <td>-0.247066</td>\n",
              "      <td>0.022408</td>\n",
              "      <td>-0.537783</td>\n",
              "      <td>0.142079</td>\n",
              "      <td>-0.048278</td>\n",
              "      <td>-0.339399</td>\n",
              "    </tr>\n",
              "    <tr>\n",
              "      <th>4</th>\n",
              "      <td>0.196912</td>\n",
              "      <td>-0.306949</td>\n",
              "      <td>0.293701</td>\n",
              "      <td>0.361708</td>\n",
              "      <td>-0.412905</td>\n",
              "      <td>0.113512</td>\n",
              "      <td>0.086672</td>\n",
              "      <td>0.271352</td>\n",
              "      <td>0.234117</td>\n",
              "      <td>0.788466</td>\n",
              "      <td>...</td>\n",
              "      <td>-0.311143</td>\n",
              "      <td>0.271187</td>\n",
              "      <td>0.387739</td>\n",
              "      <td>-0.005168</td>\n",
              "      <td>-0.066674</td>\n",
              "      <td>0.222655</td>\n",
              "      <td>0.006991</td>\n",
              "      <td>-0.272521</td>\n",
              "      <td>-0.306186</td>\n",
              "      <td>-0.556715</td>\n",
              "    </tr>\n",
              "    <tr>\n",
              "      <th>...</th>\n",
              "      <td>...</td>\n",
              "      <td>...</td>\n",
              "      <td>...</td>\n",
              "      <td>...</td>\n",
              "      <td>...</td>\n",
              "      <td>...</td>\n",
              "      <td>...</td>\n",
              "      <td>...</td>\n",
              "      <td>...</td>\n",
              "      <td>...</td>\n",
              "      <td>...</td>\n",
              "      <td>...</td>\n",
              "      <td>...</td>\n",
              "      <td>...</td>\n",
              "      <td>...</td>\n",
              "      <td>...</td>\n",
              "      <td>...</td>\n",
              "      <td>...</td>\n",
              "      <td>...</td>\n",
              "      <td>...</td>\n",
              "      <td>...</td>\n",
              "    </tr>\n",
              "    <tr>\n",
              "      <th>49995</th>\n",
              "      <td>0.309287</td>\n",
              "      <td>-0.687856</td>\n",
              "      <td>0.659682</td>\n",
              "      <td>-0.070795</td>\n",
              "      <td>-0.650750</td>\n",
              "      <td>-0.192954</td>\n",
              "      <td>0.024997</td>\n",
              "      <td>-0.256548</td>\n",
              "      <td>0.081913</td>\n",
              "      <td>0.554736</td>\n",
              "      <td>...</td>\n",
              "      <td>-0.433658</td>\n",
              "      <td>0.573043</td>\n",
              "      <td>-0.071213</td>\n",
              "      <td>0.177876</td>\n",
              "      <td>-0.001702</td>\n",
              "      <td>0.215655</td>\n",
              "      <td>-0.199557</td>\n",
              "      <td>0.074139</td>\n",
              "      <td>0.026097</td>\n",
              "      <td>-0.160296</td>\n",
              "    </tr>\n",
              "    <tr>\n",
              "      <th>49996</th>\n",
              "      <td>0.303875</td>\n",
              "      <td>-0.304371</td>\n",
              "      <td>0.028952</td>\n",
              "      <td>0.265784</td>\n",
              "      <td>-0.287641</td>\n",
              "      <td>-0.172426</td>\n",
              "      <td>0.199983</td>\n",
              "      <td>-0.054270</td>\n",
              "      <td>0.160397</td>\n",
              "      <td>0.221857</td>\n",
              "      <td>...</td>\n",
              "      <td>-0.218846</td>\n",
              "      <td>0.029128</td>\n",
              "      <td>0.085504</td>\n",
              "      <td>0.209418</td>\n",
              "      <td>-0.415298</td>\n",
              "      <td>0.069952</td>\n",
              "      <td>0.114707</td>\n",
              "      <td>0.388595</td>\n",
              "      <td>-0.006916</td>\n",
              "      <td>-0.157714</td>\n",
              "    </tr>\n",
              "    <tr>\n",
              "      <th>49997</th>\n",
              "      <td>-0.121825</td>\n",
              "      <td>-0.859796</td>\n",
              "      <td>0.568429</td>\n",
              "      <td>-0.255578</td>\n",
              "      <td>-0.920834</td>\n",
              "      <td>0.295648</td>\n",
              "      <td>0.257472</td>\n",
              "      <td>-0.067545</td>\n",
              "      <td>0.547711</td>\n",
              "      <td>0.502695</td>\n",
              "      <td>...</td>\n",
              "      <td>-0.113891</td>\n",
              "      <td>0.525230</td>\n",
              "      <td>-0.025840</td>\n",
              "      <td>0.087715</td>\n",
              "      <td>0.375971</td>\n",
              "      <td>-0.146961</td>\n",
              "      <td>-0.385159</td>\n",
              "      <td>-0.011386</td>\n",
              "      <td>-0.169780</td>\n",
              "      <td>0.107786</td>\n",
              "    </tr>\n",
              "    <tr>\n",
              "      <th>49998</th>\n",
              "      <td>0.462176</td>\n",
              "      <td>-0.246672</td>\n",
              "      <td>-0.155935</td>\n",
              "      <td>0.349714</td>\n",
              "      <td>-0.163377</td>\n",
              "      <td>0.056947</td>\n",
              "      <td>0.257554</td>\n",
              "      <td>-0.079607</td>\n",
              "      <td>0.359126</td>\n",
              "      <td>-0.064576</td>\n",
              "      <td>...</td>\n",
              "      <td>-0.263946</td>\n",
              "      <td>0.822437</td>\n",
              "      <td>0.068437</td>\n",
              "      <td>-0.180231</td>\n",
              "      <td>-0.110554</td>\n",
              "      <td>0.126845</td>\n",
              "      <td>-0.261674</td>\n",
              "      <td>-0.090120</td>\n",
              "      <td>0.078416</td>\n",
              "      <td>-0.247736</td>\n",
              "    </tr>\n",
              "    <tr>\n",
              "      <th>49999</th>\n",
              "      <td>0.627316</td>\n",
              "      <td>-1.108872</td>\n",
              "      <td>0.717006</td>\n",
              "      <td>-0.018008</td>\n",
              "      <td>-0.286282</td>\n",
              "      <td>0.420880</td>\n",
              "      <td>-0.297655</td>\n",
              "      <td>0.083296</td>\n",
              "      <td>0.353531</td>\n",
              "      <td>0.768508</td>\n",
              "      <td>...</td>\n",
              "      <td>-0.250238</td>\n",
              "      <td>0.914385</td>\n",
              "      <td>0.073243</td>\n",
              "      <td>0.516881</td>\n",
              "      <td>-0.041286</td>\n",
              "      <td>0.370924</td>\n",
              "      <td>-0.181847</td>\n",
              "      <td>0.296534</td>\n",
              "      <td>-0.183770</td>\n",
              "      <td>-0.267741</td>\n",
              "    </tr>\n",
              "  </tbody>\n",
              "</table>\n",
              "<p>50000 rows × 513 columns</p>\n",
              "</div>\n",
              "      <button class=\"colab-df-convert\" onclick=\"convertToInteractive('df-dbec5525-5e97-4d8b-9940-994165ca8be5')\"\n",
              "              title=\"Convert this dataframe to an interactive table.\"\n",
              "              style=\"display:none;\">\n",
              "        \n",
              "  <svg xmlns=\"http://www.w3.org/2000/svg\" height=\"24px\"viewBox=\"0 0 24 24\"\n",
              "       width=\"24px\">\n",
              "    <path d=\"M0 0h24v24H0V0z\" fill=\"none\"/>\n",
              "    <path d=\"M18.56 5.44l.94 2.06.94-2.06 2.06-.94-2.06-.94-.94-2.06-.94 2.06-2.06.94zm-11 1L8.5 8.5l.94-2.06 2.06-.94-2.06-.94L8.5 2.5l-.94 2.06-2.06.94zm10 10l.94 2.06.94-2.06 2.06-.94-2.06-.94-.94-2.06-.94 2.06-2.06.94z\"/><path d=\"M17.41 7.96l-1.37-1.37c-.4-.4-.92-.59-1.43-.59-.52 0-1.04.2-1.43.59L10.3 9.45l-7.72 7.72c-.78.78-.78 2.05 0 2.83L4 21.41c.39.39.9.59 1.41.59.51 0 1.02-.2 1.41-.59l7.78-7.78 2.81-2.81c.8-.78.8-2.07 0-2.86zM5.41 20L4 18.59l7.72-7.72 1.47 1.35L5.41 20z\"/>\n",
              "  </svg>\n",
              "      </button>\n",
              "      \n",
              "  <style>\n",
              "    .colab-df-container {\n",
              "      display:flex;\n",
              "      flex-wrap:wrap;\n",
              "      gap: 12px;\n",
              "    }\n",
              "\n",
              "    .colab-df-convert {\n",
              "      background-color: #E8F0FE;\n",
              "      border: none;\n",
              "      border-radius: 50%;\n",
              "      cursor: pointer;\n",
              "      display: none;\n",
              "      fill: #1967D2;\n",
              "      height: 32px;\n",
              "      padding: 0 0 0 0;\n",
              "      width: 32px;\n",
              "    }\n",
              "\n",
              "    .colab-df-convert:hover {\n",
              "      background-color: #E2EBFA;\n",
              "      box-shadow: 0px 1px 2px rgba(60, 64, 67, 0.3), 0px 1px 3px 1px rgba(60, 64, 67, 0.15);\n",
              "      fill: #174EA6;\n",
              "    }\n",
              "\n",
              "    [theme=dark] .colab-df-convert {\n",
              "      background-color: #3B4455;\n",
              "      fill: #D2E3FC;\n",
              "    }\n",
              "\n",
              "    [theme=dark] .colab-df-convert:hover {\n",
              "      background-color: #434B5C;\n",
              "      box-shadow: 0px 1px 3px 1px rgba(0, 0, 0, 0.15);\n",
              "      filter: drop-shadow(0px 1px 2px rgba(0, 0, 0, 0.3));\n",
              "      fill: #FFFFFF;\n",
              "    }\n",
              "  </style>\n",
              "\n",
              "      <script>\n",
              "        const buttonEl =\n",
              "          document.querySelector('#df-dbec5525-5e97-4d8b-9940-994165ca8be5 button.colab-df-convert');\n",
              "        buttonEl.style.display =\n",
              "          google.colab.kernel.accessAllowed ? 'block' : 'none';\n",
              "\n",
              "        async function convertToInteractive(key) {\n",
              "          const element = document.querySelector('#df-dbec5525-5e97-4d8b-9940-994165ca8be5');\n",
              "          const dataTable =\n",
              "            await google.colab.kernel.invokeFunction('convertToInteractive',\n",
              "                                                     [key], {});\n",
              "          if (!dataTable) return;\n",
              "\n",
              "          const docLinkHtml = 'Like what you see? Visit the ' +\n",
              "            '<a target=\"_blank\" href=https://colab.research.google.com/notebooks/data_table.ipynb>data table notebook</a>'\n",
              "            + ' to learn more about interactive tables.';\n",
              "          element.innerHTML = '';\n",
              "          dataTable['output_type'] = 'display_data';\n",
              "          await google.colab.output.renderOutput(dataTable, element);\n",
              "          const docLink = document.createElement('div');\n",
              "          docLink.innerHTML = docLinkHtml;\n",
              "          element.appendChild(docLink);\n",
              "        }\n",
              "      </script>\n",
              "    </div>\n",
              "  </div>\n",
              "  "
            ]
          },
          "metadata": {},
          "execution_count": 40
        }
      ]
    },
    {
      "cell_type": "markdown",
      "source": [
        "Elegimos utilizar las técnicas TF-IDF para los clasificadores de Naive Bayes y SVM porque, en conjunto, mejoran notablemente la precisión en la clasificación del texto. "
      ],
      "metadata": {
        "id": "XGlHUHCBl1Ut"
      }
    },
    {
      "cell_type": "code",
      "source": [
        "#Libreria de procesamiento de lenguaje natural\n",
        "import nltk\n",
        "#Importamos stopwords\n",
        "nltk.download('stopwords')\n",
        "#Seleccionamos el lenguaje\n",
        "stopw = stopwords.words('english')"
      ],
      "metadata": {
        "colab": {
          "base_uri": "https://localhost:8080/"
        },
        "id": "GZug982lmLAY",
        "outputId": "915e82a2-4ef1-499d-dfa4-73e03458bd4d"
      },
      "execution_count": 10,
      "outputs": [
        {
          "output_type": "stream",
          "name": "stderr",
          "text": [
            "[nltk_data] Downloading package stopwords to /root/nltk_data...\n",
            "[nltk_data]   Package stopwords is already up-to-date!\n"
          ]
        }
      ]
    },
    {
      "cell_type": "code",
      "source": [
        "#stemming para eliminar derivaciones de palabras comunes a una palabra base como organizar, organizado, organizador, organización\n",
        "# Derivación corta palabras y elimina derivaciones\n",
        "from nltk.stem.porter import PorterStemmer\n",
        "\n",
        "porter = PorterStemmer()"
      ],
      "metadata": {
        "id": "rbkC-XxumiZN"
      },
      "execution_count": 11,
      "outputs": []
    },
    {
      "cell_type": "markdown",
      "source": [
        "La función tokenizer_porter toma una cadena de texto como entrada y la divide en palabras individuales utilizando el método split(). Luego, utiliza la clase PorterStemmer para aplicar el algoritmo de stemming de Porter a cada palabra y devolver una lista de las palabras reducidas a su forma base."
      ],
      "metadata": {
        "id": "hTTj7W2onDFA"
      }
    },
    {
      "cell_type": "code",
      "source": [
        "#tokenize el texto y divida la oración en palabras según la ocurrencia\n",
        "#técnica steamming\n",
        "def tokenizer(text):\n",
        "    return text.split()\n",
        "def tokenizer_porter(text):\n",
        "    return[porter.stem(word) for word in text.split()]"
      ],
      "metadata": {
        "id": "X37fowAUmsAW"
      },
      "execution_count": 12,
      "outputs": []
    },
    {
      "cell_type": "markdown",
      "source": [
        "TfidfVectorizer de la biblioteca sklearn.feature_extraction.text para construir una matriz TF-IDF "
      ],
      "metadata": {
        "id": "7tL6USRLCgiS"
      }
    },
    {
      "cell_type": "code",
      "source": [
        "from sklearn.feature_extraction.text import TfidfVectorizer\n",
        "from nltk.corpus import stopwords\n",
        "\n",
        "tfidf = TfidfVectorizer(strip_accents = None,\n",
        "                        lowercase = False,\n",
        "                        preprocessor = None, #because we already did on our data\n",
        "                        tokenizer = tokenizer_porter, #stemming function\n",
        "                        use_idf = True,    #to downgrade according to frequency\n",
        "                        norm = 'l2',\n",
        "                        stop_words=stopw,\n",
        "                        smooth_idf = True   #to avoid division by zero\n",
        "                       )\n",
        "\n",
        "#split to x, y components\n",
        "Y_ = df.sentiment.values   #numpy array\n",
        "X_ = tfidf.fit_transform(df.review)"
      ],
      "metadata": {
        "colab": {
          "base_uri": "https://localhost:8080/"
        },
        "id": "aWcypWgSl5Tr",
        "outputId": "67499db9-a8a9-4c83-b1aa-322437ae0577"
      },
      "execution_count": 13,
      "outputs": [
        {
          "output_type": "stream",
          "name": "stderr",
          "text": [
            "/usr/local/lib/python3.10/dist-packages/sklearn/feature_extraction/text.py:528: UserWarning: The parameter 'token_pattern' will not be used since 'tokenizer' is not None'\n",
            "  warnings.warn(\n",
            "/usr/local/lib/python3.10/dist-packages/sklearn/feature_extraction/text.py:409: UserWarning: Your stop_words may be inconsistent with your preprocessing. Tokenizing the stop words generated tokens ['abov', 'ani', 'becaus', 'befor', 'doe', 'dure', 'ha', 'hi', \"it'\", 'onc', 'onli', 'ourselv', \"she'\", \"should'v\", 'themselv', 'thi', 'veri', 'wa', 'whi', \"you'r\", \"you'v\", 'yourselv'] not in stop_words.\n",
            "  warnings.warn(\n"
          ]
        }
      ]
    },
    {
      "cell_type": "code",
      "source": [
        "from sklearn.model_selection import train_test_split\n",
        "#Segmentamos las variables para evaluar y entrnar\n",
        "X_train, X_test, Y_train, Y_test = train_test_split(X_,Y_,\n",
        "                                                    random_state = 42, #to get same as instructor\n",
        "                                                    test_size = 0.2\n",
        "                                                   )"
      ],
      "metadata": {
        "id": "VFulv3PdpqL7"
      },
      "execution_count": 15,
      "outputs": []
    },
    {
      "cell_type": "markdown",
      "source": [
        "d) Una explicación de los modelos de Machine Learning utilizando: KNN, Naive Bayes, SVM, Redes \n",
        "Neuronal, Arboles de Decisión, Random Forest y Métodos de Potenciación para clasificar las\n",
        "críticas de cine (el modelo de entrenamiento puede ser tabla testing, LOOCV, k-folds, etc.). La \n",
        "presión del modelo debe ser del 95% o mayor."
      ],
      "metadata": {
        "id": "1spfRzClOcl4"
      }
    },
    {
      "cell_type": "markdown",
      "source": [
        "Redes neuronales"
      ],
      "metadata": {
        "id": "WzuyXzZrb_Bb"
      }
    },
    {
      "cell_type": "code",
      "source": [
        "#redes neuronales\n",
        "from sklearn.neural_network import MLPClassifier\n",
        "clf = MLPClassifier(solver='adam', alpha=1e-5,\n",
        "                    hidden_layer_sizes=(58, 20,30,5,2), random_state=1)\n",
        "\n",
        "clf.fit(X,y)\n",
        "clf.score(X,y)"
      ],
      "metadata": {
        "colab": {
          "base_uri": "https://localhost:8080/"
        },
        "id": "wHKM16KkaSoX",
        "outputId": "46b178ca-4e49-4c36-8817-7cfe0ab04b3c"
      },
      "execution_count": 50,
      "outputs": [
        {
          "output_type": "execute_result",
          "data": {
            "text/plain": [
              "0.98752"
            ]
          },
          "metadata": {},
          "execution_count": 50
        }
      ]
    },
    {
      "cell_type": "code",
      "source": [
        "# Create confusion matrix para redes neuronales\n",
        "from sklearn.metrics import confusion_matrix\n",
        "prediccion_nn = clf.predict(x)\n",
        "MC_nn = confusion_matrix(y,prediccion_nn)\n",
        "\n",
        "presicion_global_nn = np.sum(MC_nn.diagonal())/np.sum(MC_nn)\n",
        "error_global_nn = 1 - presicion_global_nn\n",
        "\n",
        "precision_categoria_nn = pd.DataFrame(MC_nn.diagonal()/np.sum(MC_nn,axis=1)).T\n",
        "\n",
        "print (\"Matriz de confusión: \\n\",MC_nn)\n",
        "print (\"Precisión global: \\n\",presicion_global_nn)\n",
        "print (\"Error global: \\n\",error_global_nn)\n",
        "print (\"Precisión por catergoria: \\n\",precision_categoria_nn )"
      ],
      "metadata": {
        "colab": {
          "base_uri": "https://localhost:8080/"
        },
        "id": "9Luva44Mi0o_",
        "outputId": "9323f779-9a0d-47f1-e02d-851bd11f3e54"
      },
      "execution_count": null,
      "outputs": [
        {
          "output_type": "stream",
          "name": "stdout",
          "text": [
            "matriz de confucion: \n",
            " [[24838   162]\n",
            " [  701 24299]]\n",
            "precision global: \n",
            " 0.98274\n",
            "error global: \n",
            " 0.017260000000000053\n",
            "precision por catergoria: \n",
            "          0        1\n",
            "0  0.99352  0.97196\n"
          ]
        }
      ]
    },
    {
      "cell_type": "markdown",
      "source": [
        "KNN"
      ],
      "metadata": {
        "id": "VBoc578hb8-A"
      }
    },
    {
      "cell_type": "code",
      "source": [
        "#knn\n",
        "from sklearn.neighbors import KNeighborsClassifier\n",
        "#Generamos la instancia\n",
        "knn = KNeighborsClassifier(n_neighbors=22, weights='distance')\n",
        "#Entrenamos usando tabla completa\n",
        "knn.fit(x, y)\n",
        "#Evaluamos usando todas las entradas\n",
        "knn.score(x, y)"
      ],
      "metadata": {
        "colab": {
          "base_uri": "https://localhost:8080/"
        },
        "id": "-S7oYza_boTK",
        "outputId": "216c7691-d665-4929-efd2-abf8af20d657"
      },
      "execution_count": null,
      "outputs": [
        {
          "output_type": "execute_result",
          "data": {
            "text/plain": [
              "1.0"
            ]
          },
          "metadata": {},
          "execution_count": 49
        }
      ]
    },
    {
      "cell_type": "code",
      "source": [
        "# Create confusion matrix para knn\n",
        "from sklearn.metrics import confusion_matrix\n",
        "prediccion = knn.predict(x)\n",
        "MC = confusion_matrix(y,prediccion)\n",
        "\n",
        "presicion_global = np.sum(MC.diagonal())/np.sum(MC)\n",
        "error_global = 1 - presicion_global\n",
        "\n",
        "precision_categoria = pd.DataFrame(MC.diagonal()/np.sum(MC,axis=1)).T\n",
        "\n",
        "print (\"Matriz de confusión: \\n\",MC)\n",
        "print (\"Precisión global: \\n\",presicion_global)\n",
        "print (\"Error global: \\n\",error_global)\n",
        "print (\"Precisión por catergoria: \\n\",precision_categoria )"
      ],
      "metadata": {
        "colab": {
          "base_uri": "https://localhost:8080/"
        },
        "id": "jLZEOWl5gPO7",
        "outputId": "686bc868-f5e4-4d61-85c9-434b8fd3fe9e"
      },
      "execution_count": null,
      "outputs": [
        {
          "output_type": "stream",
          "name": "stdout",
          "text": [
            "matriz de confucion: \n",
            " [[25000     0]\n",
            " [    0 25000]]\n",
            "precision global: \n",
            " 1.0\n",
            "error global: \n",
            " 0.0\n",
            "precision por catergoria: \n",
            "      0    1\n",
            "0  1.0  1.0\n"
          ]
        }
      ]
    },
    {
      "cell_type": "markdown",
      "source": [
        "Arboles de desicion"
      ],
      "metadata": {
        "id": "HPt2Xttpb46v"
      }
    },
    {
      "cell_type": "code",
      "source": [
        "#Arboles de desicion\n",
        "from sklearn import tree\n",
        "#Generamos la instacia\n",
        "desiciontree = tree.DecisionTreeClassifier()\n",
        "#Entrenamos usando tabla completa\n",
        "desiciontree.fit(x,y)\n",
        "#Evaluamos usando todas las entradas\n",
        "desiciontree.score(x,y)"
      ],
      "metadata": {
        "colab": {
          "base_uri": "https://localhost:8080/"
        },
        "id": "shqSg5tnhtW0",
        "outputId": "3cfb6a08-edfd-4317-b50b-2a880262a6a3"
      },
      "execution_count": null,
      "outputs": [
        {
          "output_type": "execute_result",
          "data": {
            "text/plain": [
              "1.0"
            ]
          },
          "metadata": {},
          "execution_count": 52
        }
      ]
    },
    {
      "cell_type": "code",
      "source": [
        "# Create confusion matrix para arboles de desición\n",
        "from sklearn.metrics import confusion_matrix\n",
        "prediccion_dt = desiciontree.predict(x)\n",
        "MC_desiciontree = confusion_matrix(y,prediccion_dt)\n",
        "\n",
        "presicion_global_dt = np.sum(MC_desiciontree.diagonal())/np.sum(MC_desiciontree)\n",
        "error_global_dt = 1 - presicion_global_dt\n",
        "\n",
        "precision_categoria_dt = pd.DataFrame(MC_desiciontree.diagonal()/np.sum(MC_desiciontree,axis=1)).T\n",
        "\n",
        "print (\"Matriz de confusión: \\n\",MC_desiciontree)\n",
        "print (\"Precisión global: \\n\",presicion_global_dt)\n",
        "print (\"Error global: \\n\",error_global_dt)\n",
        "print (\"Precisión por catergoria: \\n\",precision_categoria_dt )"
      ],
      "metadata": {
        "colab": {
          "base_uri": "https://localhost:8080/"
        },
        "id": "-rEAw3VHiO5w",
        "outputId": "71138721-fe88-433c-9bff-d32c2b6b1b8d"
      },
      "execution_count": null,
      "outputs": [
        {
          "output_type": "stream",
          "name": "stdout",
          "text": [
            "matriz de confucion: \n",
            " [[25000     0]\n",
            " [    0 25000]]\n",
            "precision global: \n",
            " 1.0\n",
            "error global: \n",
            " 0.0\n",
            "precision por catergoria: \n",
            "      0    1\n",
            "0  1.0  1.0\n"
          ]
        }
      ]
    },
    {
      "cell_type": "markdown",
      "source": [
        "Bosques aleatorios"
      ],
      "metadata": {
        "id": "QddxKdOxb05q"
      }
    },
    {
      "cell_type": "code",
      "source": [
        "#Random Forest\n",
        "from sklearn.ensemble import RandomForestClassifier\n",
        "#Generamos la instancia\n",
        "randomforest = RandomForestClassifier()\n",
        "#Entrenamos usando tabla completa\n",
        "randomforest.fit(x,y)\n",
        "#Evaluamos usando todas las entradas\n",
        "randomforest.score(x,y)"
      ],
      "metadata": {
        "colab": {
          "base_uri": "https://localhost:8080/"
        },
        "id": "W2pD48GDh6ZH",
        "outputId": "e39a5f4c-b9d0-4a84-9d7c-cfad173d4234"
      },
      "execution_count": null,
      "outputs": [
        {
          "output_type": "execute_result",
          "data": {
            "text/plain": [
              "1.0"
            ]
          },
          "metadata": {},
          "execution_count": 55
        }
      ]
    },
    {
      "cell_type": "code",
      "source": [
        "# Create confusion matrix para bosques aleatorios\n",
        "from sklearn.metrics import confusion_matrix\n",
        "prediccion_randomforest = randomforest.predict(x)\n",
        "MC_randomforest = confusion_matrix(y,prediccion_randomforest)\n",
        "\n",
        "presicion_global_rf = np.sum(MC_randomforest.diagonal())/np.sum(MC_randomforest)\n",
        "error_global_rd = 1 - presicion_global_rf\n",
        "\n",
        "precision_categoria_rf = pd.DataFrame(MC_randomforest.diagonal()/np.sum(MC_randomforest,axis=1)).T\n",
        "\n",
        "print (\"Matriz de confusión: \\n\",MC_randomforest)\n",
        "print (\"Precisión global: \\n\",presicion_global_rf)\n",
        "print (\"Error global: \\n\",error_global_rd)\n",
        "print (\"Precisión por catergoria: \\n\",precision_categoria_rf )"
      ],
      "metadata": {
        "colab": {
          "base_uri": "https://localhost:8080/"
        },
        "id": "3lYJZO0TkTv6",
        "outputId": "62de8b51-1674-44f9-be60-74988a770eb2"
      },
      "execution_count": null,
      "outputs": [
        {
          "output_type": "stream",
          "name": "stdout",
          "text": [
            "matriz de confucion: \n",
            " [[25000     0]\n",
            " [    0 25000]]\n",
            "precision global: \n",
            " 1.0\n",
            "error global: \n",
            " 0.0\n",
            "precision por catergoria: \n",
            "      0    1\n",
            "0  1.0  1.0\n"
          ]
        }
      ]
    },
    {
      "cell_type": "markdown",
      "source": [
        "Adaboost Clasificador"
      ],
      "metadata": {
        "id": "ocPeQXPIpsYL"
      }
    },
    {
      "cell_type": "code",
      "source": [
        "from sklearn.ensemble import AdaBoostClassifier,RandomForestClassifier\n",
        "#Generamos la instancia\n",
        "adaboostclasifier = AdaBoostClassifier(n_estimators=100,base_estimator=RandomForestClassifier())\n",
        "#Entrenamos usando tabla completa\n",
        "adaboostclasifier.fit(x, y)\n",
        "#Evaluamos usando todas las entradas\n",
        "adaboostclasifier.score(x,y)"
      ],
      "metadata": {
        "colab": {
          "base_uri": "https://localhost:8080/"
        },
        "id": "FXGhFCdHoPsq",
        "outputId": "ef3aad5a-9ef6-449a-d86d-1b561f42061c"
      },
      "execution_count": null,
      "outputs": [
        {
          "output_type": "stream",
          "name": "stderr",
          "text": [
            "/usr/local/lib/python3.10/dist-packages/sklearn/ensemble/_base.py:166: FutureWarning: `base_estimator` was renamed to `estimator` in version 1.2 and will be removed in 1.4.\n",
            "  warnings.warn(\n"
          ]
        },
        {
          "output_type": "execute_result",
          "data": {
            "text/plain": [
              "1.0"
            ]
          },
          "metadata": {},
          "execution_count": 58
        }
      ]
    },
    {
      "cell_type": "code",
      "source": [
        "# Create confusion matrix para Adaboost Clasificador\n",
        "from sklearn.metrics import confusion_matrix\n",
        "prediccion_adaboostclasifier = adaboostclasifier.predict(x)\n",
        "MC_adaboost = confusion_matrix(y,prediccion_adaboostclasifier)\n",
        "\n",
        "presicion_global_ab = np.sum(MC_adaboost.diagonal())/np.sum(MC_adaboost)\n",
        "error_global_ab = 1 - presicion_global_ab\n",
        "\n",
        "precision_categoria_ab = pd.DataFrame(MC_adaboost.diagonal()/np.sum(MC_adaboost,axis=1)).T\n",
        "\n",
        "print (\"Matriz de confusión: \\n\",MC_adaboost)\n",
        "print (\"Presición global: \\n\",presicion_global_ab)\n",
        "print (\"Error global: \\n\",error_global_ab)\n",
        "print (\"Presición por catergoria: \\n\",precision_categoria_ab )"
      ],
      "metadata": {
        "colab": {
          "base_uri": "https://localhost:8080/"
        },
        "id": "LV1Gwnu9pMcY",
        "outputId": "6457d84e-dc24-4702-dd01-e3be2c2e210b"
      },
      "execution_count": null,
      "outputs": [
        {
          "output_type": "stream",
          "name": "stdout",
          "text": [
            "matriz de confucion: \n",
            " [[25000     0]\n",
            " [    0 25000]]\n",
            "precision global: \n",
            " 1.0\n",
            "error global: \n",
            " 0.0\n",
            "precision por catergoria: \n",
            "      0    1\n",
            "0  1.0  1.0\n"
          ]
        }
      ]
    },
    {
      "cell_type": "markdown",
      "source": [
        "XGBoost Clasificador"
      ],
      "metadata": {
        "id": "ch2yQQIFpv11"
      }
    },
    {
      "cell_type": "code",
      "source": [
        "# Importaciones adicionales\n",
        "from xgboost import XGBClassifier\n",
        "\n",
        "#Generamos la instancia\n",
        "xgb_classifier = XGBClassifier(\n",
        "    use_label_encoder=False,\n",
        "    eval_metric='auc',\n",
        "    learning_rate=0.1,\n",
        "    n_estimators=100,\n",
        "    max_depth=10,\n",
        "    min_child_weight=1,\n",
        "    gamma=0,\n",
        "    booster='gbtree',\n",
        "    subsample=0.9,\n",
        "    colsample_bytree=0.9,\n",
        "    scale_pos_weight=1\n",
        ")\n",
        "# Entrenar el clasificador XGBoost\n",
        "xgb_classifier.fit(x, y)\n",
        "#Evaluamos usando todas las entradas\n",
        "xgb_classifier.score(x, y)"
      ],
      "metadata": {
        "colab": {
          "base_uri": "https://localhost:8080/"
        },
        "id": "pwwsCl--pzTX",
        "outputId": "5193f4e4-02c3-48e0-9b8e-088c221991c6"
      },
      "execution_count": null,
      "outputs": [
        {
          "output_type": "execute_result",
          "data": {
            "text/plain": [
              "0.99998"
            ]
          },
          "metadata": {},
          "execution_count": 65
        }
      ]
    },
    {
      "cell_type": "code",
      "source": [
        "# Create confusion matrix para xgboost\n",
        "from sklearn.metrics import confusion_matrix\n",
        "prediccion_xgboost = xgb_classifier.predict(x)\n",
        "MC_xgboost = confusion_matrix(y,prediccion_xgboost)\n",
        "\n",
        "presicion_global_xgboost = np.sum(MC_xgboost.diagonal())/np.sum(MC_xgboost)\n",
        "error_global_xgboost = 1 - presicion_global_xgboost\n",
        "\n",
        "precision_categoria_xgboost = pd.DataFrame(MC_xgboost.diagonal()/np.sum(MC_xgboost,axis=1)).T\n",
        "\n",
        "print (\"Matriz de confusión: \\n\",MC_xgboost)\n",
        "print (\"Presición global: \\n\",presicion_global_xgboost)\n",
        "print (\"Error global: \\n\",error_global_xgboost)\n",
        "print (\"Presición por catergoria: \\n\",precision_categoria_xgboost )"
      ],
      "metadata": {
        "colab": {
          "base_uri": "https://localhost:8080/"
        },
        "id": "DPMMF4L--Ges",
        "outputId": "f1b19a48-37c4-4541-b64a-125dee92bb6c"
      },
      "execution_count": null,
      "outputs": [
        {
          "output_type": "stream",
          "name": "stdout",
          "text": [
            "matriz de confucion: \n",
            " [[25000     0]\n",
            " [    1 24999]]\n",
            "precision global: \n",
            " 0.99998\n",
            "error global: \n",
            " 2.0000000000020002e-05\n",
            "precision por catergoria: \n",
            "      0        1\n",
            "0  1.0  0.99996\n"
          ]
        }
      ]
    },
    {
      "cell_type": "code",
      "source": [
        "#Maquinas de soporte vectorial\n",
        "from sklearn import svm\n",
        "\n",
        "#Create a svm Classifier\n",
        "maquinassoporte = svm.SVC() \n",
        "\n",
        "maquinassoporte.fit(X_,Y_)\n"
      ],
      "metadata": {
        "id": "_oUp92jXuYzV"
      },
      "execution_count": null,
      "outputs": []
    },
    {
      "cell_type": "code",
      "source": [
        "maquinassoporte.score(X_test, Y_test) "
      ],
      "metadata": {
        "colab": {
          "base_uri": "https://localhost:8080/"
        },
        "id": "TUvtzm2MZZ-K",
        "outputId": "3347acfb-483c-4bfe-b3a5-441a362df037"
      },
      "execution_count": 24,
      "outputs": [
        {
          "output_type": "execute_result",
          "data": {
            "text/plain": [
              "0.9869"
            ]
          },
          "metadata": {},
          "execution_count": 24
        }
      ]
    },
    {
      "cell_type": "code",
      "source": [
        "# Create confusion matrix para Maquinas de soporte vectorial\n",
        "from sklearn.metrics import confusion_matrix\n",
        "prediccion_svm = maquinassoporte.predict(X_test)\n",
        "MC_svm = confusion_matrix(Y_test,prediccion_svm)\n",
        "\n",
        "presicion_global_svm = np.sum(MC_svm.diagonal())/np.sum(MC_svm)\n",
        "error_global_svm = 1 - presicion_global_svm\n",
        "\n",
        "precision_categoria_svm = pd.DataFrame(MC_svm.diagonal()/np.sum(MC_svm,axis=1)).T\n",
        "\n",
        "print (\"Matriz de confusión: \\n\",MC_svm)\n",
        "print (\"Presición global: \\n\",presicion_global_svm)\n",
        "print (\"Error global: \\n\",error_global_svm)\n",
        "print (\"Presición por catergoria: \\n\",precision_categoria_svm )"
      ],
      "metadata": {
        "colab": {
          "base_uri": "https://localhost:8080/"
        },
        "id": "BYVNMaIkMPrM",
        "outputId": "e2372455-a306-4fc6-bc68-1f55a6595518"
      },
      "execution_count": 27,
      "outputs": [
        {
          "output_type": "stream",
          "name": "stdout",
          "text": [
            "Matriz de confusión: \n",
            " [[4966   68]\n",
            " [  63 4903]]\n",
            "Presición global: \n",
            " 0.9869\n",
            "Error global: \n",
            " 0.0131\n",
            "Presición por catergoria: \n",
            "           0         1\n",
            "0  0.986492  0.987314\n"
          ]
        }
      ]
    },
    {
      "cell_type": "code",
      "source": [
        "#Naive Bayes\n",
        "from sklearn.pipeline import make_pipeline\n",
        "from sklearn.preprocessing import StandardScaler\n",
        "from sklearn.naive_bayes import MultinomialNB\n",
        "\n",
        "pipe_mnb = make_pipeline(StandardScaler(with_mean=False), MultinomialNB())\n",
        "pipe_mnb.fit(X_,Y_) # apply scaling on training data\n",
        "\n",
        "pipe_mnb.score(X_test, Y_test) "
      ],
      "metadata": {
        "id": "b3b1_Fduu-5u",
        "colab": {
          "base_uri": "https://localhost:8080/"
        },
        "outputId": "9845e8de-e4e2-487a-de85-d9a0c1d06619"
      },
      "execution_count": 16,
      "outputs": [
        {
          "output_type": "execute_result",
          "data": {
            "text/plain": [
              "0.9397"
            ]
          },
          "metadata": {},
          "execution_count": 16
        }
      ]
    },
    {
      "cell_type": "code",
      "source": [
        "# Create confusion matrix para Naive Bayes\n",
        "from sklearn.metrics import confusion_matrix\n",
        "import numpy as np\n",
        "\n",
        "prediccion_bayes = pipe_mnb.predict(X_test)\n",
        "MC_bayes = confusion_matrix(Y_test,prediccion_bayes)\n",
        "\n",
        "presicion_global_bayes = np.sum(MC_bayes.diagonal())/np.sum(MC_bayes)\n",
        "error_global_bayes = 1 - presicion_global_bayes\n",
        "\n",
        "precision_categoria_bayes = pd.DataFrame(MC_bayes.diagonal()/np.sum(MC_bayes,axis=1)).T\n",
        "\n",
        "print (\"Matriz de confusión: \\n\",MC_bayes)\n",
        "print (\"Presición global: \\n\",presicion_global_bayes)\n",
        "print (\"Error global: \\n\",error_global_bayes)\n",
        "print (\"Presición por catergoria: \\n\",precision_categoria_bayes )"
      ],
      "metadata": {
        "colab": {
          "base_uri": "https://localhost:8080/"
        },
        "id": "o_i7Imq9FFaf",
        "outputId": "d09376f3-d43e-408e-e7b3-0041204dadf7"
      },
      "execution_count": 26,
      "outputs": [
        {
          "output_type": "stream",
          "name": "stdout",
          "text": [
            "Matriz de confusión: \n",
            " [[4844  190]\n",
            " [ 413 4553]]\n",
            "Presición global: \n",
            " 0.9397\n",
            "Error global: \n",
            " 0.06030000000000002\n",
            "Presición por catergoria: \n",
            "           0         1\n",
            "0  0.962257  0.916834\n"
          ]
        }
      ]
    },
    {
      "cell_type": "markdown",
      "source": [
        "e) Una explicación del análisis comparativo de modelos de Machine Learning utilizando los clasificadores previamente mencionados, el análisis deberá comparar: la precisión del modelo, el error del modelo, precisión negativa especificidad), precisión positiva (sensibilidad), falsos positivos, falsos negativos, asertividad positiva, asertividad negativa."
      ],
      "metadata": {
        "id": "9hchNDPuOd0H"
      }
    },
    {
      "cell_type": "code",
      "source": [
        "# Agregar los modelos al diccionario\n",
        "models_dict = {\n",
        "    \"Arboles de desición\": desiciontree,\n",
        "    \"Bosques Aleatorios\": randomforest,\n",
        "    \"AdaBoostClassifier\": adaboostclasifier,\n",
        "    \"XGB_Classifier\": xgb_classifier,\n",
        "    \"Redes Neuronales\":clf,\n",
        "    \"KNN\":knn,\n",
        "}"
      ],
      "metadata": {
        "id": "frjSt-7kBHE1"
      },
      "execution_count": 57,
      "outputs": []
    },
    {
      "cell_type": "code",
      "source": [
        "\n",
        "#   \"SVM\":maquinassoporte\n",
        "\n",
        "\n",
        "# calcular métricas de evaluación\n",
        "tn_svm, fp_svm, fn_svm, tp_svm = MC_svm.ravel()\n",
        "sensitivity_svm = tp_svm / (tp_svm + fn_svm)\n",
        "specificity_svm = tn_svm / (tn_svm + fp_svm)\n",
        "fpr_svm = fp_svm / (fp_svm + tn_svm)\n",
        "fnr_svm = fn_svm / (fn_svm + tp_svm)\n",
        "ppv_svm = tp_svm / (tp_svm + fp_svm)\n",
        "npv_svm = tn_svm / (tn_svm + fn_svm)\n",
        "\n",
        "# mostrar informe de evaluación\n",
        "print(f\"Precisión positiva (sensibilidad): {sensitivity_svm}\")\n",
        "print(f\"Precisión negativa (especificidad): {specificity_svm}\")\n",
        "print(f\"Falsos positivos (tasa de falsos positivos): {fpr_svm}\")\n",
        "print(f\"Falsos negativos (tasa de falsos negativos): {fnr_svm}\")\n",
        "print(f\"Asertividad positiva: {ppv_svm}\")\n",
        "print(f\"Asertividad negativa: {npv_svm}\")\n"
      ],
      "metadata": {
        "colab": {
          "base_uri": "https://localhost:8080/"
        },
        "id": "TpHD8vUKiyNx",
        "outputId": "427bfa50-84f8-46f4-8383-a51250637f5a"
      },
      "execution_count": 60,
      "outputs": [
        {
          "output_type": "stream",
          "name": "stdout",
          "text": [
            "Precisión positiva (sensibilidad): 0.9873137333870318\n",
            "Precisión negativa (especificidad): 0.9864918553833929\n",
            "Falsos positivos (tasa de falsos positivos): 0.013508144616607072\n",
            "Falsos negativos (tasa de falsos negativos): 0.012686266612968183\n",
            "Asertividad positiva: 0.9863206598269966\n",
            "Asertividad negativa: 0.9874726585802346\n"
          ]
        }
      ]
    },
    {
      "cell_type": "code",
      "source": [
        "#   \"Naive Bayes\": pipe_mnb,\n",
        "\n",
        "tn_bayes, fp_bayes, fn_bayes, tp_bayes = MC_bayes.ravel()\n",
        "sensitivity_bayes = tp_bayes / (tp_bayes + fn_bayes)\n",
        "specificity_bayes = tn_bayes / (tn_bayes + fp_bayes)\n",
        "fpr_bayes = fp_bayes / (fp_bayes + tn_bayes)\n",
        "fnr_bayes = fn_bayes / (fn_bayes + tp_bayes)\n",
        "ppv_bayes = tp_bayes / (tp_bayes + fp_bayes)\n",
        "npv_bayes = tn_bayes / (tn_bayes + fn_bayes)\n",
        "\n",
        "# mostrar informe de evaluación\n",
        "print(f\"Precisión positiva (sensibilidad): {sensitivity_bayes}\")\n",
        "print(f\"Precisión negativa (especificidad): {specificity_bayes}\")\n",
        "print(f\"Falsos positivos (tasa de falsos positivos): {fpr_bayes}\")\n",
        "print(f\"Falsos negativos (tasa de falsos negativos): {fnr_bayes}\")\n",
        "print(f\"Asertividad positiva: {ppv_bayes}\")\n",
        "print(f\"Asertividad negativa: {npv_bayes}\")\n"
      ],
      "metadata": {
        "colab": {
          "base_uri": "https://localhost:8080/"
        },
        "id": "rVMT0-JBjomc",
        "outputId": "9c6c5a3f-1b08-4d57-ff52-8d736afefda4"
      },
      "execution_count": 61,
      "outputs": [
        {
          "output_type": "stream",
          "name": "stdout",
          "text": [
            "Precisión positiva (sensibilidad): 0.9168344744260974\n",
            "Precisión negativa (especificidad): 0.9622566547477155\n",
            "Falsos positivos (tasa de falsos positivos): 0.03774334525228447\n",
            "Falsos negativos (tasa de falsos negativos): 0.08316552557390254\n",
            "Asertividad positiva: 0.9599409656335652\n",
            "Asertividad negativa: 0.9214380825565912\n"
          ]
        }
      ]
    },
    {
      "cell_type": "code",
      "source": [
        "import pandas as pd\n",
        "from sklearn.metrics import confusion_matrix\n",
        "\n",
        "# crear listas vacías para cada métrica de evaluación\n",
        "models = []\n",
        "accuracies = []\n",
        "sensitivities = []\n",
        "specificities = []\n",
        "fprs = []\n",
        "fnrs = []\n",
        "ppvs = []\n",
        "npvs = []\n",
        "\n",
        "# iterar sobre cada modelo y calcular las métricas de evaluación\n",
        "for model_name, model in models_dict.items():\n",
        "    y_true = model.predict(X)\n",
        "    y_pred = y\n",
        "    conf_mat = confusion_matrix(y_true, y_pred)\n",
        "    tn, fp, fn, tp = conf_mat.ravel()\n",
        "    sensitivity = tp / (tp + fn)\n",
        "    specificity = tn / (tn + fp)\n",
        "    fpr = fp / (fp + tn)\n",
        "    fnr = fn / (fn + tp)\n",
        "    ppv = tp / (tp + fp)\n",
        "    npv = tn / (tn + fn)\n",
        "\n",
        "    # agregar las métricas al dataframe\n",
        "    models.append(model_name)\n",
        "    accuracies.append(model.score(X, y))\n",
        "    sensitivities.append(sensitivity)\n",
        "    specificities.append(specificity)\n",
        "    fprs.append(fpr)\n",
        "    fnrs.append(fnr)\n",
        "    ppvs.append(ppv)\n",
        "    npvs.append(npv)\n",
        "\n",
        "# crear el dataframe y mostrarlo en la consola\n",
        "df = pd.DataFrame({\n",
        "    \"Model\": models,\n",
        "    \"Accuracy\": accuracies,\n",
        "    \"Sensitivity\": sensitivities,\n",
        "    \"Specificity\": specificities,\n",
        "    \"FPR\": fprs,\n",
        "    \"FNR\": fnrs,\n",
        "    \"PPV\": ppvs,\n",
        "    \"NPV\": npvs\n",
        "})\n",
        "print(df)\n"
      ],
      "metadata": {
        "colab": {
          "base_uri": "https://localhost:8080/"
        },
        "id": "VWByiYxpAp-P",
        "outputId": "0e35e760-ecd8-44fc-e33d-ad51e7d2c77c"
      },
      "execution_count": 58,
      "outputs": [
        {
          "output_type": "stream",
          "name": "stderr",
          "text": [
            "/usr/local/lib/python3.10/dist-packages/sklearn/base.py:432: UserWarning: X has feature names, but DecisionTreeClassifier was fitted without feature names\n",
            "  warnings.warn(\n",
            "/usr/local/lib/python3.10/dist-packages/sklearn/base.py:432: UserWarning: X has feature names, but DecisionTreeClassifier was fitted without feature names\n",
            "  warnings.warn(\n",
            "/usr/local/lib/python3.10/dist-packages/sklearn/base.py:432: UserWarning: X has feature names, but RandomForestClassifier was fitted without feature names\n",
            "  warnings.warn(\n",
            "/usr/local/lib/python3.10/dist-packages/sklearn/base.py:432: UserWarning: X has feature names, but RandomForestClassifier was fitted without feature names\n",
            "  warnings.warn(\n",
            "/usr/local/lib/python3.10/dist-packages/sklearn/base.py:432: UserWarning: X has feature names, but AdaBoostClassifier was fitted without feature names\n",
            "  warnings.warn(\n",
            "/usr/local/lib/python3.10/dist-packages/sklearn/base.py:432: UserWarning: X has feature names, but AdaBoostClassifier was fitted without feature names\n",
            "  warnings.warn(\n",
            "/usr/local/lib/python3.10/dist-packages/sklearn/base.py:432: UserWarning: X has feature names, but KNeighborsClassifier was fitted without feature names\n",
            "  warnings.warn(\n",
            "/usr/local/lib/python3.10/dist-packages/sklearn/base.py:432: UserWarning: X has feature names, but KNeighborsClassifier was fitted without feature names\n",
            "  warnings.warn(\n"
          ]
        },
        {
          "output_type": "stream",
          "name": "stdout",
          "text": [
            "                 Model  Accuracy  Sensitivity  Specificity       FPR  \\\n",
            "0  Arboles de desición   1.00000     1.000000     1.000000  0.000000   \n",
            "1   Bosques Aleatorios   1.00000     1.000000     1.000000  0.000000   \n",
            "2   AdaBoostClassifier   1.00000     1.000000     1.000000  0.000000   \n",
            "3       XGB_Classifier   0.99998     1.000000     0.999960  0.000040   \n",
            "4     Redes Neuronales   0.98752     0.999549     0.976057  0.023943   \n",
            "5                  KNN   1.00000     1.000000     1.000000  0.000000   \n",
            "\n",
            "        FNR      PPV      NPV  \n",
            "0  0.000000  1.00000  1.00000  \n",
            "1  0.000000  1.00000  1.00000  \n",
            "2  0.000000  1.00000  1.00000  \n",
            "3  0.000000  0.99996  1.00000  \n",
            "4  0.000451  0.97548  0.99956  \n",
            "5  0.000000  1.00000  1.00000  \n"
          ]
        }
      ]
    },
    {
      "cell_type": "code",
      "source": [
        "# agregar las métricas al dataframe\n",
        "models.append(\"Bayes\")\n",
        "accuracies.append(0.9397)\n",
        "sensitivities.append(sensitivity_bayes)\n",
        "specificities.append(specificity_bayes)\n",
        "fprs.append(fpr_bayes)\n",
        "fnrs.append(fnr_bayes)\n",
        "ppvs.append(ppv_bayes)\n",
        "npvs.append(npv_bayes)\n",
        "\n",
        "models.append(\"SVM\")\n",
        "accuracies.append(0.9869)\n",
        "sensitivities.append(sensitivity_svm)\n",
        "specificities.append(specificity_svm)\n",
        "fprs.append(fpr_svm)\n",
        "fnrs.append(fnr_svm)\n",
        "ppvs.append(ppv_svm)\n",
        "npvs.append(npv_svm)\n",
        "\n",
        "# crear el dataframe y mostrarlo en la consola\n",
        "df = pd.DataFrame({\n",
        "    \"Model\": models,\n",
        "    \"Accuracy\": accuracies,\n",
        "    \"Sensitivity\": sensitivities,\n",
        "    \"Specificity\": specificities,\n",
        "    \"FPR\": fprs,\n",
        "    \"FNR\": fnrs,\n",
        "    \"PPV\": ppvs,\n",
        "    \"NPV\": npvs\n",
        "})\n",
        "print(df)"
      ],
      "metadata": {
        "colab": {
          "base_uri": "https://localhost:8080/"
        },
        "id": "u9ViLNJfkFcF",
        "outputId": "f876c317-304c-412b-af0d-737142c3927e"
      },
      "execution_count": 66,
      "outputs": [
        {
          "output_type": "stream",
          "name": "stdout",
          "text": [
            "                 Model  Accuracy  Sensitivity  Specificity       FPR  \\\n",
            "0  Arboles de desición   1.00000     1.000000     1.000000  0.000000   \n",
            "1   Bosques Aleatorios   1.00000     1.000000     1.000000  0.000000   \n",
            "2   AdaBoostClassifier   1.00000     1.000000     1.000000  0.000000   \n",
            "3       XGB_Classifier   0.99998     1.000000     0.999960  0.000040   \n",
            "4     Redes Neuronales   0.98752     0.999549     0.976057  0.023943   \n",
            "5                  KNN   1.00000     1.000000     1.000000  0.000000   \n",
            "6                Bayes   0.93970     0.916834     0.962257  0.037743   \n",
            "7                  SVM   0.98690     0.987314     0.986492  0.013508   \n",
            "\n",
            "        FNR       PPV       NPV  \n",
            "0  0.000000  1.000000  1.000000  \n",
            "1  0.000000  1.000000  1.000000  \n",
            "2  0.000000  1.000000  1.000000  \n",
            "3  0.000000  0.999960  1.000000  \n",
            "4  0.000451  0.975480  0.999560  \n",
            "5  0.000000  1.000000  1.000000  \n",
            "6  0.083166  0.959941  0.921438  \n",
            "7  0.012686  0.986321  0.987473  \n"
          ]
        }
      ]
    },
    {
      "cell_type": "markdown",
      "source": [
        "f) Una explicación del análisis comparativo de modelos de Machine Learning utilizando los \n",
        "clasificadores previamente mencionados, el análisis deberá comparar los modelos utilizando la \n",
        "curva ROC."
      ],
      "metadata": {
        "id": "jX3Wi8cZOgkp"
      }
    },
    {
      "cell_type": "code",
      "source": [
        "import matplotlib.pyplot as plt\n",
        "from sklearn.metrics import roc_curve, RocCurveDisplay\n",
        "\n",
        "for name, clf in models_dict.items():\n",
        "    y_pred_proba = clf.predict_proba(x)[:,1]\n",
        "    fpr, tpr, thresholds = roc_curve(y, y_pred_proba)\n",
        "    svc_disp = RocCurveDisplay.from_estimator(clf, x, y, name=name)\n",
        "    svc_disp.plot()\n",
        "\n",
        "plt.legend(loc=\"lower right\")\n",
        "plt.show()\n"
      ],
      "metadata": {
        "colab": {
          "base_uri": "https://localhost:8080/",
          "height": 1000
        },
        "id": "Q3axpb02F8OO",
        "outputId": "e4dd7356-1c60-47f6-ce21-126f7e8e1338"
      },
      "execution_count": null,
      "outputs": [
        {
          "output_type": "display_data",
          "data": {
            "text/plain": [
              "<Figure size 640x480 with 1 Axes>"
            ],
            "image/png": "[encoded data removed]"
          },
          "metadata": {}
        },
        {
          "output_type": "display_data",
          "data": {
            "text/plain": [
              "<Figure size 640x480 with 1 Axes>"
            ],
            "image/png": "[encoded data removed]"
          },
          "metadata": {}
        },
        {
          "output_type": "display_data",
          "data": {
            "text/plain": [
              "<Figure size 640x480 with 1 Axes>"
            ],
            "image/png": "[encoded data removed]"
          },
          "metadata": {}
        },
        {
          "output_type": "display_data",
          "data": {
            "text/plain": [
              "<Figure size 640x480 with 1 Axes>"
            ],
            "image/png": "[encoded data removed]"
          },
          "metadata": {}
        },
        {
          "output_type": "display_data",
          "data": {
            "text/plain": [
              "<Figure size 640x480 with 1 Axes>"
            ],
            "image/png": "[encoded data removed]"
          },
          "metadata": {}
        },
        {
          "output_type": "display_data",
          "data": {
            "text/plain": [
              "<Figure size 640x480 with 1 Axes>"
            ],
            "image/png": "[encoded data removed]"
          },
          "metadata": {}
        },
        {
          "output_type": "display_data",
          "data": {
            "text/plain": [
              "<Figure size 640x480 with 1 Axes>"
            ],
            "image/png": "[encoded data removed]"
          },
          "metadata": {}
        },
        {
          "output_type": "display_data",
          "data": {
            "text/plain": [
              "<Figure size 640x480 with 1 Axes>"
            ],
            "image/png": "[encoded data removed]"
          },
          "metadata": {}
        },
        {
          "output_type": "display_data",
          "data": {
            "text/plain": [
              "<Figure size 640x480 with 1 Axes>"
            ],
            "image/png": "[encoded data removed]"
          },
          "metadata": {}
        },
        {
          "output_type": "display_data",
          "data": {
            "text/plain": [
              "<Figure size 640x480 with 1 Axes>"
            ],
            "image/png": "[encoded data removed]"
          },
          "metadata": {}
        },
        {
          "output_type": "display_data",
          "data": {
            "text/plain": [
              "<Figure size 640x480 with 1 Axes>"
            ],
            "image/png": "[encoded data removed]"
          },
          "metadata": {}
        },
        {
          "output_type": "display_data",
          "data": {
            "text/plain": [
              "<Figure size 640x480 with 1 Axes>"
            ],
            "image/png": "[encoded data removed]"
          },
          "metadata": {}
        }
      ]
    },
    {
      "cell_type": "code",
      "source": [
        "import matplotlib.pyplot as plt\n",
        "from sklearn.metrics import roc_curve, RocCurveDisplay\n",
        "\n",
        "colors = ['b', 'g', 'r', 'c', 'm', 'y', 'k'] # list of colors to use for each curve\n",
        "i = 0 # variable to keep track of current color index\n",
        "\n",
        "for name, clasifi in models_dict.items():\n",
        "  y_pred_proba = clasifi.predict_proba(X)[:,1]\n",
        "  fpr, tpr, thresholds = roc_curve(y, y_pred_proba)\n",
        "  plt.plot(fpr, tpr, color=colors[i], label=name) # plot the curve with the current color\n",
        "  i += 1 # increment the color index for the next curve\n",
        "\n",
        "plt.xlabel('False Positive Rate')\n",
        "plt.ylabel('True Positive Rate')\n",
        "plt.title('Receiver operating characteristic')\n",
        "plt.legend(loc=\"lower right\")\n",
        "plt.show()"
      ],
      "metadata": {
        "colab": {
          "base_uri": "https://localhost:8080/",
          "height": 631
        },
        "id": "HwqUN-CELnuD",
        "outputId": "829c4a1c-7b99-4ec4-e983-632c4431f7e9"
      },
      "execution_count": 64,
      "outputs": [
        {
          "output_type": "stream",
          "name": "stderr",
          "text": [
            "/usr/local/lib/python3.10/dist-packages/sklearn/base.py:432: UserWarning: X has feature names, but DecisionTreeClassifier was fitted without feature names\n",
            "  warnings.warn(\n",
            "/usr/local/lib/python3.10/dist-packages/sklearn/base.py:432: UserWarning: X has feature names, but RandomForestClassifier was fitted without feature names\n",
            "  warnings.warn(\n",
            "/usr/local/lib/python3.10/dist-packages/sklearn/base.py:432: UserWarning: X has feature names, but AdaBoostClassifier was fitted without feature names\n",
            "  warnings.warn(\n",
            "/usr/local/lib/python3.10/dist-packages/sklearn/base.py:432: UserWarning: X has feature names, but KNeighborsClassifier was fitted without feature names\n",
            "  warnings.warn(\n"
          ]
        },
        {
          "output_type": "display_data",
          "data": {
            "text/plain": [
              "<Figure size 640x480 with 1 Axes>"
            ],
            "image/png": "[encoded data removed]"
          },
          "metadata": {}
        }
      ]
    },
    {
      "cell_type": "code",
      "source": [
        "import pandas as pd\n",
        "import matplotlib.pyplot as plt\n",
        "\n",
        "# Datos proporcionados\n",
        "data = {\n",
        "    'Model': ['Arboles de desición', 'Bosques Aleatorios', 'AdaBoostClassifier', 'XGB_Classifier', 'Redes Neuronales', 'KNN', 'Bayes', 'SVM'],\n",
        "    'Accuracy': [1.00000, 1.00000, 1.00000, 0.99998, 0.98752, 1.00000, 0.93970, 0.98690],\n",
        "    'Sensitivity': [1.000000, 1.000000, 1.000000, 1.000000, 0.999549, 1.000000, 0.916834, 0.987314],\n",
        "    'Specificity': [1.000000, 1.000000, 1.000000, 0.999960, 0.976057, 1.000000, 0.962257, 0.986492],\n",
        "    'FPR': [0.000000, 0.000000, 0.000000, 0.000040, 0.023943, 0.000000, 0.037743, 0.013508],\n",
        "    'FNR': [0.000000, 0.000000, 0.000000, 0.000000, 0.000451, 0.000000, 0.083166, 0.012686],\n",
        "    'PPV': [1.000000, 1.000000, 1.000000, 0.999960, 0.975480, 1.000000, 0.959941, 0.986321],\n",
        "    'NPV': [1.000000, 1.000000, 1.000000, 1.000000, 0.999560, 1.000000, 0.921438, 0.987473]\n",
        "}\n",
        "\n",
        "# Crear un DataFrame con los datos\n",
        "df = pd.DataFrame(data)\n",
        "\n",
        "# Crear la figura y el eje para el gráfico\n",
        "fig, ax = plt.subplots()\n",
        "\n",
        "# Trazar la línea diagonal (representa un clasificador aleatorio)\n",
        "ax.plot([0, 1], [0, 1], linestyle='--', color='gray')\n",
        "\n",
        "# Trazar los puntos de cada modelo en el espacio ROC\n",
        "for index, row in df.iterrows():\n",
        "    ax.plot(row['FPR'], row['Sensitivity'], marker='o', label=row['Model'])\n",
        "\n",
        "# Configurar etiquetas de los ejes y título\n",
        "ax.set_xlabel('Tasa de falsos positivos (FPR)')\n",
        "ax.set_ylabel('Tasa de verdaderos positivos (Sensitivity)')\n",
        "ax.set_title('Espacio ROC')\n",
        "\n",
        "# Añadir leyenda\n",
        "ax.legend()\n",
        "\n",
        "# Mostrar el gráfico\n",
        "plt.show()"
      ],
      "metadata": {
        "colab": {
          "base_uri": "https://localhost:8080/",
          "height": 472
        },
        "id": "zzvaqXcgvW_f",
        "outputId": "754728d6-f1f1-4d9b-e0c7-bf077d9921b0"
      },
      "execution_count": 2,
      "outputs": [
        {
          "output_type": "display_data",
          "data": {
            "text/plain": [
              "<Figure size 640x480 with 1 Axes>"
            ],
            "image/png": "[encoded data removed]"
          },
          "metadata": {}
        }
      ]
    },
    {
      "cell_type": "markdown",
      "source": [
        "Conclusiones\n",
        "\n",
        "Después de trabajar en nuestro examen, nos dimos cuenta de que convertir los datos en vectores llevó bastante tiempo, pero era un paso necesario para poder aplicar los modelos de aprendizaje automático. Probamos modelos como SVM y Naive Bayes utilizando la técnica TF-IDF. A pesar de que su ejecución duró mucho, sus resultados no fueron tan buenos como esperábamos. \n",
        "\n",
        "Por eso, decidimos probar otras técnicas para mejorar los resultados y obtener una mejor precisión en la clasificación de nuestros datos. Gracias a las clases impartidas por nuestro profesor y sus explicaciones durante las sesiones, pudimos comprender mejor las distintas técnicas y enfoques para abordar el problema. \n",
        "\n",
        "Finalmente, con el conocimiento adquirido, logramos mejorar nuestros resultados y encontrar un enfoque que funcionara bien para nuestro examen. En general, este examen nos permitió aplicar lo aprendido en clase y obtener una valiosa experiencia práctica en la resolución de problemas de clasificación utilizando diferentes métodos de aprendizaje automático.\n"
      ],
      "metadata": {
        "id": "fJrnftwfOkhr"
      }
    },
    {
      "cell_type": "markdown",
      "source": [
        "Bibliografía\n",
        "\n",
        "\n",
        "Equipo de desarrollo de Pandas. (s. f.). Documentación de pandas. pandas. Recuperado de https://pandas.pydata.org/docs/ \n",
        "\n",
        "W3Schools. (s. f.). Python RegEx. Recuperado de https://www.w3schools.com/python/python_regex.asp \n",
        "\n",
        "GeeksforGeeks. (s. f.). Python - Derivación de palabras con NLTK. Recuperado de https://www.geeksforgeeks.org/python-stemming-words-with-nltk/ \n",
        "\n",
        "Desarrolladores de scikit-learn. (s. f.). sklearn.feature_extraction.text.TfidfVectorizer — Documentación de scikit-learn 1.0.1. scikit-learn. Recuperado de https://scikit-learn.org/stable/modules/generated/sklearn.feature_extraction.text.TfidfVectorizer.html \n",
        "\n",
        "Desarrolladores de scikit-learn. (s. f.). scikit-learn: aprendizaje automático en Python — Documentación de scikit-learn 1.0.1. scikit-learn. Recuperado de https://scikit-learn.org/stable/"
      ],
      "metadata": {
        "id": "gCWcMgIvOoCf"
      }
    }
  ]
}